{
  "nbformat": 4,
  "nbformat_minor": 0,
  "metadata": {
    "colab": {
      "provenance": [],
      "gpuType": "T4",
      "collapsed_sections": [
        "zhs0zZpO3OJY",
        "7qMJZuLOY7Bz",
        "cYpVno_xZK0_",
        "f7qlDZLP4Ehf",
        "MC9RQBLeZnTz",
        "zAI-JECeg80q",
        "0K4vDDRFiKgL",
        "tbn_h5lpkDtS",
        "5LobwSyIawu8",
        "InfYqFeq8tuz",
        "Yx29DSjJ9V6U",
        "v4xsi3pzWCqW",
        "CLp_kUHyWJti",
        "OoFyYOVgXccC",
        "hiTO_8IRX0Nu",
        "BZFtQtUImtx2",
        "AdJ_UvIRQ9K6",
        "gxClWKPNngkf",
        "zbt1Gb8Bnl5A",
        "wWF7-q8hnaxM",
        "RJuYrHhAnDKv",
        "caGWekeLngz-",
        "hM-uY_xQnvrs",
        "VfTDazc_wB8w",
        "pds5SZiDugwV",
        "Da0GUPVDulmk",
        "236-ZXG39VMl",
        "48x9VwmR0qpd",
        "4V1QOxUL0v9p",
        "eMJEPu5v8rY8",
        "lSDzG7dx9-jY"
      ]
    },
    "kernelspec": {
      "name": "python3",
      "display_name": "Python 3"
    },
    "language_info": {
      "name": "python"
    },
    "accelerator": "GPU"
  },
  "cells": [
    {
      "cell_type": "markdown",
      "source": [
        "## 1. Downloading and Reading data"
      ],
      "metadata": {
        "id": "zhs0zZpO3OJY"
      }
    },
    {
      "cell_type": "markdown",
      "source": [
        "### 1.1 Download from Drive and unzip"
      ],
      "metadata": {
        "id": "7qMJZuLOY7Bz"
      }
    },
    {
      "cell_type": "code",
      "source": [
        "!mkdir digit-recognizer\n",
        "!unzip drive/MyDrive/digit-recognizer.zip -d digit-recognizer"
      ],
      "metadata": {
        "colab": {
          "base_uri": "https://localhost:8080/"
        },
        "id": "olEJN4Rb3Tar",
        "outputId": "fc397db2-a79b-4f0c-e2fc-3e1730d7a197"
      },
      "execution_count": null,
      "outputs": [
        {
          "output_type": "stream",
          "name": "stdout",
          "text": [
            "mkdir: cannot create directory ‘digit-recognizer’: File exists\n",
            "Archive:  drive/MyDrive/digit-recognizer.zip\n",
            "replace digit-recognizer/sample_submission.csv? [y]es, [n]o, [A]ll, [N]one, [r]ename: "
          ]
        }
      ]
    },
    {
      "cell_type": "markdown",
      "source": [
        "### 1.2 Read train and test dataframes"
      ],
      "metadata": {
        "id": "cYpVno_xZK0_"
      }
    },
    {
      "cell_type": "code",
      "source": [
        "import pandas as pd\n",
        "\n",
        "train_df = pd.read_csv('digit-recognizer/train.csv')\n",
        "\n",
        "train_df[:5]"
      ],
      "metadata": {
        "colab": {
          "base_uri": "https://localhost:8080/"
        },
        "id": "JT7mX0fh3N7U",
        "outputId": "eac63a57-77ee-4a82-dc63-ffd052bd497a"
      },
      "execution_count": null,
      "outputs": [
        {
          "output_type": "execute_result",
          "data": {
            "text/plain": [
              "   label  pixel0  pixel1  pixel2  pixel3  pixel4  pixel5  pixel6  pixel7  \\\n",
              "0      1       0       0       0       0       0       0       0       0   \n",
              "1      0       0       0       0       0       0       0       0       0   \n",
              "2      1       0       0       0       0       0       0       0       0   \n",
              "3      4       0       0       0       0       0       0       0       0   \n",
              "4      0       0       0       0       0       0       0       0       0   \n",
              "\n",
              "   pixel8  ...  pixel774  pixel775  pixel776  pixel777  pixel778  pixel779  \\\n",
              "0       0  ...         0         0         0         0         0         0   \n",
              "1       0  ...         0         0         0         0         0         0   \n",
              "2       0  ...         0         0         0         0         0         0   \n",
              "3       0  ...         0         0         0         0         0         0   \n",
              "4       0  ...         0         0         0         0         0         0   \n",
              "\n",
              "   pixel780  pixel781  pixel782  pixel783  \n",
              "0         0         0         0         0  \n",
              "1         0         0         0         0  \n",
              "2         0         0         0         0  \n",
              "3         0         0         0         0  \n",
              "4         0         0         0         0  \n",
              "\n",
              "[5 rows x 785 columns]"
            ],
            "text/html": [
              "\n",
              "  <div id=\"df-d2aa9f82-1dde-4d26-bd98-775ed4e3500a\" class=\"colab-df-container\">\n",
              "    <div>\n",
              "<style scoped>\n",
              "    .dataframe tbody tr th:only-of-type {\n",
              "        vertical-align: middle;\n",
              "    }\n",
              "\n",
              "    .dataframe tbody tr th {\n",
              "        vertical-align: top;\n",
              "    }\n",
              "\n",
              "    .dataframe thead th {\n",
              "        text-align: right;\n",
              "    }\n",
              "</style>\n",
              "<table border=\"1\" class=\"dataframe\">\n",
              "  <thead>\n",
              "    <tr style=\"text-align: right;\">\n",
              "      <th></th>\n",
              "      <th>label</th>\n",
              "      <th>pixel0</th>\n",
              "      <th>pixel1</th>\n",
              "      <th>pixel2</th>\n",
              "      <th>pixel3</th>\n",
              "      <th>pixel4</th>\n",
              "      <th>pixel5</th>\n",
              "      <th>pixel6</th>\n",
              "      <th>pixel7</th>\n",
              "      <th>pixel8</th>\n",
              "      <th>...</th>\n",
              "      <th>pixel774</th>\n",
              "      <th>pixel775</th>\n",
              "      <th>pixel776</th>\n",
              "      <th>pixel777</th>\n",
              "      <th>pixel778</th>\n",
              "      <th>pixel779</th>\n",
              "      <th>pixel780</th>\n",
              "      <th>pixel781</th>\n",
              "      <th>pixel782</th>\n",
              "      <th>pixel783</th>\n",
              "    </tr>\n",
              "  </thead>\n",
              "  <tbody>\n",
              "    <tr>\n",
              "      <th>0</th>\n",
              "      <td>1</td>\n",
              "      <td>0</td>\n",
              "      <td>0</td>\n",
              "      <td>0</td>\n",
              "      <td>0</td>\n",
              "      <td>0</td>\n",
              "      <td>0</td>\n",
              "      <td>0</td>\n",
              "      <td>0</td>\n",
              "      <td>0</td>\n",
              "      <td>...</td>\n",
              "      <td>0</td>\n",
              "      <td>0</td>\n",
              "      <td>0</td>\n",
              "      <td>0</td>\n",
              "      <td>0</td>\n",
              "      <td>0</td>\n",
              "      <td>0</td>\n",
              "      <td>0</td>\n",
              "      <td>0</td>\n",
              "      <td>0</td>\n",
              "    </tr>\n",
              "    <tr>\n",
              "      <th>1</th>\n",
              "      <td>0</td>\n",
              "      <td>0</td>\n",
              "      <td>0</td>\n",
              "      <td>0</td>\n",
              "      <td>0</td>\n",
              "      <td>0</td>\n",
              "      <td>0</td>\n",
              "      <td>0</td>\n",
              "      <td>0</td>\n",
              "      <td>0</td>\n",
              "      <td>...</td>\n",
              "      <td>0</td>\n",
              "      <td>0</td>\n",
              "      <td>0</td>\n",
              "      <td>0</td>\n",
              "      <td>0</td>\n",
              "      <td>0</td>\n",
              "      <td>0</td>\n",
              "      <td>0</td>\n",
              "      <td>0</td>\n",
              "      <td>0</td>\n",
              "    </tr>\n",
              "    <tr>\n",
              "      <th>2</th>\n",
              "      <td>1</td>\n",
              "      <td>0</td>\n",
              "      <td>0</td>\n",
              "      <td>0</td>\n",
              "      <td>0</td>\n",
              "      <td>0</td>\n",
              "      <td>0</td>\n",
              "      <td>0</td>\n",
              "      <td>0</td>\n",
              "      <td>0</td>\n",
              "      <td>...</td>\n",
              "      <td>0</td>\n",
              "      <td>0</td>\n",
              "      <td>0</td>\n",
              "      <td>0</td>\n",
              "      <td>0</td>\n",
              "      <td>0</td>\n",
              "      <td>0</td>\n",
              "      <td>0</td>\n",
              "      <td>0</td>\n",
              "      <td>0</td>\n",
              "    </tr>\n",
              "    <tr>\n",
              "      <th>3</th>\n",
              "      <td>4</td>\n",
              "      <td>0</td>\n",
              "      <td>0</td>\n",
              "      <td>0</td>\n",
              "      <td>0</td>\n",
              "      <td>0</td>\n",
              "      <td>0</td>\n",
              "      <td>0</td>\n",
              "      <td>0</td>\n",
              "      <td>0</td>\n",
              "      <td>...</td>\n",
              "      <td>0</td>\n",
              "      <td>0</td>\n",
              "      <td>0</td>\n",
              "      <td>0</td>\n",
              "      <td>0</td>\n",
              "      <td>0</td>\n",
              "      <td>0</td>\n",
              "      <td>0</td>\n",
              "      <td>0</td>\n",
              "      <td>0</td>\n",
              "    </tr>\n",
              "    <tr>\n",
              "      <th>4</th>\n",
              "      <td>0</td>\n",
              "      <td>0</td>\n",
              "      <td>0</td>\n",
              "      <td>0</td>\n",
              "      <td>0</td>\n",
              "      <td>0</td>\n",
              "      <td>0</td>\n",
              "      <td>0</td>\n",
              "      <td>0</td>\n",
              "      <td>0</td>\n",
              "      <td>...</td>\n",
              "      <td>0</td>\n",
              "      <td>0</td>\n",
              "      <td>0</td>\n",
              "      <td>0</td>\n",
              "      <td>0</td>\n",
              "      <td>0</td>\n",
              "      <td>0</td>\n",
              "      <td>0</td>\n",
              "      <td>0</td>\n",
              "      <td>0</td>\n",
              "    </tr>\n",
              "  </tbody>\n",
              "</table>\n",
              "<p>5 rows × 785 columns</p>\n",
              "</div>\n",
              "    <div class=\"colab-df-buttons\">\n",
              "\n",
              "  <div class=\"colab-df-container\">\n",
              "    <button class=\"colab-df-convert\" onclick=\"convertToInteractive('df-d2aa9f82-1dde-4d26-bd98-775ed4e3500a')\"\n",
              "            title=\"Convert this dataframe to an interactive table.\"\n",
              "            style=\"display:none;\">\n",
              "\n",
              "  <svg xmlns=\"http://www.w3.org/2000/svg\" height=\"24px\" viewBox=\"0 -960 960 960\">\n",
              "    <path d=\"M120-120v-720h720v720H120Zm60-500h600v-160H180v160Zm220 220h160v-160H400v160Zm0 220h160v-160H400v160ZM180-400h160v-160H180v160Zm440 0h160v-160H620v160ZM180-180h160v-160H180v160Zm440 0h160v-160H620v160Z\"/>\n",
              "  </svg>\n",
              "    </button>\n",
              "\n",
              "  <style>\n",
              "    .colab-df-container {\n",
              "      display:flex;\n",
              "      gap: 12px;\n",
              "    }\n",
              "\n",
              "    .colab-df-convert {\n",
              "      background-color: #E8F0FE;\n",
              "      border: none;\n",
              "      border-radius: 50%;\n",
              "      cursor: pointer;\n",
              "      display: none;\n",
              "      fill: #1967D2;\n",
              "      height: 32px;\n",
              "      padding: 0 0 0 0;\n",
              "      width: 32px;\n",
              "    }\n",
              "\n",
              "    .colab-df-convert:hover {\n",
              "      background-color: #E2EBFA;\n",
              "      box-shadow: 0px 1px 2px rgba(60, 64, 67, 0.3), 0px 1px 3px 1px rgba(60, 64, 67, 0.15);\n",
              "      fill: #174EA6;\n",
              "    }\n",
              "\n",
              "    .colab-df-buttons div {\n",
              "      margin-bottom: 4px;\n",
              "    }\n",
              "\n",
              "    [theme=dark] .colab-df-convert {\n",
              "      background-color: #3B4455;\n",
              "      fill: #D2E3FC;\n",
              "    }\n",
              "\n",
              "    [theme=dark] .colab-df-convert:hover {\n",
              "      background-color: #434B5C;\n",
              "      box-shadow: 0px 1px 3px 1px rgba(0, 0, 0, 0.15);\n",
              "      filter: drop-shadow(0px 1px 2px rgba(0, 0, 0, 0.3));\n",
              "      fill: #FFFFFF;\n",
              "    }\n",
              "  </style>\n",
              "\n",
              "    <script>\n",
              "      const buttonEl =\n",
              "        document.querySelector('#df-d2aa9f82-1dde-4d26-bd98-775ed4e3500a button.colab-df-convert');\n",
              "      buttonEl.style.display =\n",
              "        google.colab.kernel.accessAllowed ? 'block' : 'none';\n",
              "\n",
              "      async function convertToInteractive(key) {\n",
              "        const element = document.querySelector('#df-d2aa9f82-1dde-4d26-bd98-775ed4e3500a');\n",
              "        const dataTable =\n",
              "          await google.colab.kernel.invokeFunction('convertToInteractive',\n",
              "                                                    [key], {});\n",
              "        if (!dataTable) return;\n",
              "\n",
              "        const docLinkHtml = 'Like what you see? Visit the ' +\n",
              "          '<a target=\"_blank\" href=https://colab.research.google.com/notebooks/data_table.ipynb>data table notebook</a>'\n",
              "          + ' to learn more about interactive tables.';\n",
              "        element.innerHTML = '';\n",
              "        dataTable['output_type'] = 'display_data';\n",
              "        await google.colab.output.renderOutput(dataTable, element);\n",
              "        const docLink = document.createElement('div');\n",
              "        docLink.innerHTML = docLinkHtml;\n",
              "        element.appendChild(docLink);\n",
              "      }\n",
              "    </script>\n",
              "  </div>\n",
              "\n",
              "\n",
              "<div id=\"df-87a67828-dabd-4bed-8b64-71620b45e6eb\">\n",
              "  <button class=\"colab-df-quickchart\" onclick=\"quickchart('df-87a67828-dabd-4bed-8b64-71620b45e6eb')\"\n",
              "            title=\"Suggest charts.\"\n",
              "            style=\"display:none;\">\n",
              "\n",
              "<svg xmlns=\"http://www.w3.org/2000/svg\" height=\"24px\"viewBox=\"0 0 24 24\"\n",
              "     width=\"24px\">\n",
              "    <g>\n",
              "        <path d=\"M19 3H5c-1.1 0-2 .9-2 2v14c0 1.1.9 2 2 2h14c1.1 0 2-.9 2-2V5c0-1.1-.9-2-2-2zM9 17H7v-7h2v7zm4 0h-2V7h2v10zm4 0h-2v-4h2v4z\"/>\n",
              "    </g>\n",
              "</svg>\n",
              "  </button>\n",
              "\n",
              "<style>\n",
              "  .colab-df-quickchart {\n",
              "      --bg-color: #E8F0FE;\n",
              "      --fill-color: #1967D2;\n",
              "      --hover-bg-color: #E2EBFA;\n",
              "      --hover-fill-color: #174EA6;\n",
              "      --disabled-fill-color: #AAA;\n",
              "      --disabled-bg-color: #DDD;\n",
              "  }\n",
              "\n",
              "  [theme=dark] .colab-df-quickchart {\n",
              "      --bg-color: #3B4455;\n",
              "      --fill-color: #D2E3FC;\n",
              "      --hover-bg-color: #434B5C;\n",
              "      --hover-fill-color: #FFFFFF;\n",
              "      --disabled-bg-color: #3B4455;\n",
              "      --disabled-fill-color: #666;\n",
              "  }\n",
              "\n",
              "  .colab-df-quickchart {\n",
              "    background-color: var(--bg-color);\n",
              "    border: none;\n",
              "    border-radius: 50%;\n",
              "    cursor: pointer;\n",
              "    display: none;\n",
              "    fill: var(--fill-color);\n",
              "    height: 32px;\n",
              "    padding: 0;\n",
              "    width: 32px;\n",
              "  }\n",
              "\n",
              "  .colab-df-quickchart:hover {\n",
              "    background-color: var(--hover-bg-color);\n",
              "    box-shadow: 0 1px 2px rgba(60, 64, 67, 0.3), 0 1px 3px 1px rgba(60, 64, 67, 0.15);\n",
              "    fill: var(--button-hover-fill-color);\n",
              "  }\n",
              "\n",
              "  .colab-df-quickchart-complete:disabled,\n",
              "  .colab-df-quickchart-complete:disabled:hover {\n",
              "    background-color: var(--disabled-bg-color);\n",
              "    fill: var(--disabled-fill-color);\n",
              "    box-shadow: none;\n",
              "  }\n",
              "\n",
              "  .colab-df-spinner {\n",
              "    border: 2px solid var(--fill-color);\n",
              "    border-color: transparent;\n",
              "    border-bottom-color: var(--fill-color);\n",
              "    animation:\n",
              "      spin 1s steps(1) infinite;\n",
              "  }\n",
              "\n",
              "  @keyframes spin {\n",
              "    0% {\n",
              "      border-color: transparent;\n",
              "      border-bottom-color: var(--fill-color);\n",
              "      border-left-color: var(--fill-color);\n",
              "    }\n",
              "    20% {\n",
              "      border-color: transparent;\n",
              "      border-left-color: var(--fill-color);\n",
              "      border-top-color: var(--fill-color);\n",
              "    }\n",
              "    30% {\n",
              "      border-color: transparent;\n",
              "      border-left-color: var(--fill-color);\n",
              "      border-top-color: var(--fill-color);\n",
              "      border-right-color: var(--fill-color);\n",
              "    }\n",
              "    40% {\n",
              "      border-color: transparent;\n",
              "      border-right-color: var(--fill-color);\n",
              "      border-top-color: var(--fill-color);\n",
              "    }\n",
              "    60% {\n",
              "      border-color: transparent;\n",
              "      border-right-color: var(--fill-color);\n",
              "    }\n",
              "    80% {\n",
              "      border-color: transparent;\n",
              "      border-right-color: var(--fill-color);\n",
              "      border-bottom-color: var(--fill-color);\n",
              "    }\n",
              "    90% {\n",
              "      border-color: transparent;\n",
              "      border-bottom-color: var(--fill-color);\n",
              "    }\n",
              "  }\n",
              "</style>\n",
              "\n",
              "  <script>\n",
              "    async function quickchart(key) {\n",
              "      const quickchartButtonEl =\n",
              "        document.querySelector('#' + key + ' button');\n",
              "      quickchartButtonEl.disabled = true;  // To prevent multiple clicks.\n",
              "      quickchartButtonEl.classList.add('colab-df-spinner');\n",
              "      try {\n",
              "        const charts = await google.colab.kernel.invokeFunction(\n",
              "            'suggestCharts', [key], {});\n",
              "      } catch (error) {\n",
              "        console.error('Error during call to suggestCharts:', error);\n",
              "      }\n",
              "      quickchartButtonEl.classList.remove('colab-df-spinner');\n",
              "      quickchartButtonEl.classList.add('colab-df-quickchart-complete');\n",
              "    }\n",
              "    (() => {\n",
              "      let quickchartButtonEl =\n",
              "        document.querySelector('#df-87a67828-dabd-4bed-8b64-71620b45e6eb button');\n",
              "      quickchartButtonEl.style.display =\n",
              "        google.colab.kernel.accessAllowed ? 'block' : 'none';\n",
              "    })();\n",
              "  </script>\n",
              "</div>\n",
              "    </div>\n",
              "  </div>\n"
            ]
          },
          "metadata": {},
          "execution_count": 18
        }
      ]
    },
    {
      "cell_type": "code",
      "source": [
        "test_df = pd.read_csv('digit-recognizer/test.csv')\n",
        "\n",
        "test_df[:5]"
      ],
      "metadata": {
        "colab": {
          "base_uri": "https://localhost:8080/"
        },
        "id": "kCD29t1ZhUou",
        "outputId": "426c89f9-f3e7-49e9-9774-7943cc045478"
      },
      "execution_count": null,
      "outputs": [
        {
          "output_type": "execute_result",
          "data": {
            "text/plain": [
              "   pixel0  pixel1  pixel2  pixel3  pixel4  pixel5  pixel6  pixel7  pixel8  \\\n",
              "0       0       0       0       0       0       0       0       0       0   \n",
              "1       0       0       0       0       0       0       0       0       0   \n",
              "2       0       0       0       0       0       0       0       0       0   \n",
              "3       0       0       0       0       0       0       0       0       0   \n",
              "4       0       0       0       0       0       0       0       0       0   \n",
              "\n",
              "   pixel9  ...  pixel774  pixel775  pixel776  pixel777  pixel778  pixel779  \\\n",
              "0       0  ...         0         0         0         0         0         0   \n",
              "1       0  ...         0         0         0         0         0         0   \n",
              "2       0  ...         0         0         0         0         0         0   \n",
              "3       0  ...         0         0         0         0         0         0   \n",
              "4       0  ...         0         0         0         0         0         0   \n",
              "\n",
              "   pixel780  pixel781  pixel782  pixel783  \n",
              "0         0         0         0         0  \n",
              "1         0         0         0         0  \n",
              "2         0         0         0         0  \n",
              "3         0         0         0         0  \n",
              "4         0         0         0         0  \n",
              "\n",
              "[5 rows x 784 columns]"
            ],
            "text/html": [
              "\n",
              "  <div id=\"df-10a3f293-5a64-4ce6-81ac-709004d9a6c4\" class=\"colab-df-container\">\n",
              "    <div>\n",
              "<style scoped>\n",
              "    .dataframe tbody tr th:only-of-type {\n",
              "        vertical-align: middle;\n",
              "    }\n",
              "\n",
              "    .dataframe tbody tr th {\n",
              "        vertical-align: top;\n",
              "    }\n",
              "\n",
              "    .dataframe thead th {\n",
              "        text-align: right;\n",
              "    }\n",
              "</style>\n",
              "<table border=\"1\" class=\"dataframe\">\n",
              "  <thead>\n",
              "    <tr style=\"text-align: right;\">\n",
              "      <th></th>\n",
              "      <th>pixel0</th>\n",
              "      <th>pixel1</th>\n",
              "      <th>pixel2</th>\n",
              "      <th>pixel3</th>\n",
              "      <th>pixel4</th>\n",
              "      <th>pixel5</th>\n",
              "      <th>pixel6</th>\n",
              "      <th>pixel7</th>\n",
              "      <th>pixel8</th>\n",
              "      <th>pixel9</th>\n",
              "      <th>...</th>\n",
              "      <th>pixel774</th>\n",
              "      <th>pixel775</th>\n",
              "      <th>pixel776</th>\n",
              "      <th>pixel777</th>\n",
              "      <th>pixel778</th>\n",
              "      <th>pixel779</th>\n",
              "      <th>pixel780</th>\n",
              "      <th>pixel781</th>\n",
              "      <th>pixel782</th>\n",
              "      <th>pixel783</th>\n",
              "    </tr>\n",
              "  </thead>\n",
              "  <tbody>\n",
              "    <tr>\n",
              "      <th>0</th>\n",
              "      <td>0</td>\n",
              "      <td>0</td>\n",
              "      <td>0</td>\n",
              "      <td>0</td>\n",
              "      <td>0</td>\n",
              "      <td>0</td>\n",
              "      <td>0</td>\n",
              "      <td>0</td>\n",
              "      <td>0</td>\n",
              "      <td>0</td>\n",
              "      <td>...</td>\n",
              "      <td>0</td>\n",
              "      <td>0</td>\n",
              "      <td>0</td>\n",
              "      <td>0</td>\n",
              "      <td>0</td>\n",
              "      <td>0</td>\n",
              "      <td>0</td>\n",
              "      <td>0</td>\n",
              "      <td>0</td>\n",
              "      <td>0</td>\n",
              "    </tr>\n",
              "    <tr>\n",
              "      <th>1</th>\n",
              "      <td>0</td>\n",
              "      <td>0</td>\n",
              "      <td>0</td>\n",
              "      <td>0</td>\n",
              "      <td>0</td>\n",
              "      <td>0</td>\n",
              "      <td>0</td>\n",
              "      <td>0</td>\n",
              "      <td>0</td>\n",
              "      <td>0</td>\n",
              "      <td>...</td>\n",
              "      <td>0</td>\n",
              "      <td>0</td>\n",
              "      <td>0</td>\n",
              "      <td>0</td>\n",
              "      <td>0</td>\n",
              "      <td>0</td>\n",
              "      <td>0</td>\n",
              "      <td>0</td>\n",
              "      <td>0</td>\n",
              "      <td>0</td>\n",
              "    </tr>\n",
              "    <tr>\n",
              "      <th>2</th>\n",
              "      <td>0</td>\n",
              "      <td>0</td>\n",
              "      <td>0</td>\n",
              "      <td>0</td>\n",
              "      <td>0</td>\n",
              "      <td>0</td>\n",
              "      <td>0</td>\n",
              "      <td>0</td>\n",
              "      <td>0</td>\n",
              "      <td>0</td>\n",
              "      <td>...</td>\n",
              "      <td>0</td>\n",
              "      <td>0</td>\n",
              "      <td>0</td>\n",
              "      <td>0</td>\n",
              "      <td>0</td>\n",
              "      <td>0</td>\n",
              "      <td>0</td>\n",
              "      <td>0</td>\n",
              "      <td>0</td>\n",
              "      <td>0</td>\n",
              "    </tr>\n",
              "    <tr>\n",
              "      <th>3</th>\n",
              "      <td>0</td>\n",
              "      <td>0</td>\n",
              "      <td>0</td>\n",
              "      <td>0</td>\n",
              "      <td>0</td>\n",
              "      <td>0</td>\n",
              "      <td>0</td>\n",
              "      <td>0</td>\n",
              "      <td>0</td>\n",
              "      <td>0</td>\n",
              "      <td>...</td>\n",
              "      <td>0</td>\n",
              "      <td>0</td>\n",
              "      <td>0</td>\n",
              "      <td>0</td>\n",
              "      <td>0</td>\n",
              "      <td>0</td>\n",
              "      <td>0</td>\n",
              "      <td>0</td>\n",
              "      <td>0</td>\n",
              "      <td>0</td>\n",
              "    </tr>\n",
              "    <tr>\n",
              "      <th>4</th>\n",
              "      <td>0</td>\n",
              "      <td>0</td>\n",
              "      <td>0</td>\n",
              "      <td>0</td>\n",
              "      <td>0</td>\n",
              "      <td>0</td>\n",
              "      <td>0</td>\n",
              "      <td>0</td>\n",
              "      <td>0</td>\n",
              "      <td>0</td>\n",
              "      <td>...</td>\n",
              "      <td>0</td>\n",
              "      <td>0</td>\n",
              "      <td>0</td>\n",
              "      <td>0</td>\n",
              "      <td>0</td>\n",
              "      <td>0</td>\n",
              "      <td>0</td>\n",
              "      <td>0</td>\n",
              "      <td>0</td>\n",
              "      <td>0</td>\n",
              "    </tr>\n",
              "  </tbody>\n",
              "</table>\n",
              "<p>5 rows × 784 columns</p>\n",
              "</div>\n",
              "    <div class=\"colab-df-buttons\">\n",
              "\n",
              "  <div class=\"colab-df-container\">\n",
              "    <button class=\"colab-df-convert\" onclick=\"convertToInteractive('df-10a3f293-5a64-4ce6-81ac-709004d9a6c4')\"\n",
              "            title=\"Convert this dataframe to an interactive table.\"\n",
              "            style=\"display:none;\">\n",
              "\n",
              "  <svg xmlns=\"http://www.w3.org/2000/svg\" height=\"24px\" viewBox=\"0 -960 960 960\">\n",
              "    <path d=\"M120-120v-720h720v720H120Zm60-500h600v-160H180v160Zm220 220h160v-160H400v160Zm0 220h160v-160H400v160ZM180-400h160v-160H180v160Zm440 0h160v-160H620v160ZM180-180h160v-160H180v160Zm440 0h160v-160H620v160Z\"/>\n",
              "  </svg>\n",
              "    </button>\n",
              "\n",
              "  <style>\n",
              "    .colab-df-container {\n",
              "      display:flex;\n",
              "      gap: 12px;\n",
              "    }\n",
              "\n",
              "    .colab-df-convert {\n",
              "      background-color: #E8F0FE;\n",
              "      border: none;\n",
              "      border-radius: 50%;\n",
              "      cursor: pointer;\n",
              "      display: none;\n",
              "      fill: #1967D2;\n",
              "      height: 32px;\n",
              "      padding: 0 0 0 0;\n",
              "      width: 32px;\n",
              "    }\n",
              "\n",
              "    .colab-df-convert:hover {\n",
              "      background-color: #E2EBFA;\n",
              "      box-shadow: 0px 1px 2px rgba(60, 64, 67, 0.3), 0px 1px 3px 1px rgba(60, 64, 67, 0.15);\n",
              "      fill: #174EA6;\n",
              "    }\n",
              "\n",
              "    .colab-df-buttons div {\n",
              "      margin-bottom: 4px;\n",
              "    }\n",
              "\n",
              "    [theme=dark] .colab-df-convert {\n",
              "      background-color: #3B4455;\n",
              "      fill: #D2E3FC;\n",
              "    }\n",
              "\n",
              "    [theme=dark] .colab-df-convert:hover {\n",
              "      background-color: #434B5C;\n",
              "      box-shadow: 0px 1px 3px 1px rgba(0, 0, 0, 0.15);\n",
              "      filter: drop-shadow(0px 1px 2px rgba(0, 0, 0, 0.3));\n",
              "      fill: #FFFFFF;\n",
              "    }\n",
              "  </style>\n",
              "\n",
              "    <script>\n",
              "      const buttonEl =\n",
              "        document.querySelector('#df-10a3f293-5a64-4ce6-81ac-709004d9a6c4 button.colab-df-convert');\n",
              "      buttonEl.style.display =\n",
              "        google.colab.kernel.accessAllowed ? 'block' : 'none';\n",
              "\n",
              "      async function convertToInteractive(key) {\n",
              "        const element = document.querySelector('#df-10a3f293-5a64-4ce6-81ac-709004d9a6c4');\n",
              "        const dataTable =\n",
              "          await google.colab.kernel.invokeFunction('convertToInteractive',\n",
              "                                                    [key], {});\n",
              "        if (!dataTable) return;\n",
              "\n",
              "        const docLinkHtml = 'Like what you see? Visit the ' +\n",
              "          '<a target=\"_blank\" href=https://colab.research.google.com/notebooks/data_table.ipynb>data table notebook</a>'\n",
              "          + ' to learn more about interactive tables.';\n",
              "        element.innerHTML = '';\n",
              "        dataTable['output_type'] = 'display_data';\n",
              "        await google.colab.output.renderOutput(dataTable, element);\n",
              "        const docLink = document.createElement('div');\n",
              "        docLink.innerHTML = docLinkHtml;\n",
              "        element.appendChild(docLink);\n",
              "      }\n",
              "    </script>\n",
              "  </div>\n",
              "\n",
              "\n",
              "<div id=\"df-861c660c-378f-4c29-b8f9-1308d9615cb7\">\n",
              "  <button class=\"colab-df-quickchart\" onclick=\"quickchart('df-861c660c-378f-4c29-b8f9-1308d9615cb7')\"\n",
              "            title=\"Suggest charts.\"\n",
              "            style=\"display:none;\">\n",
              "\n",
              "<svg xmlns=\"http://www.w3.org/2000/svg\" height=\"24px\"viewBox=\"0 0 24 24\"\n",
              "     width=\"24px\">\n",
              "    <g>\n",
              "        <path d=\"M19 3H5c-1.1 0-2 .9-2 2v14c0 1.1.9 2 2 2h14c1.1 0 2-.9 2-2V5c0-1.1-.9-2-2-2zM9 17H7v-7h2v7zm4 0h-2V7h2v10zm4 0h-2v-4h2v4z\"/>\n",
              "    </g>\n",
              "</svg>\n",
              "  </button>\n",
              "\n",
              "<style>\n",
              "  .colab-df-quickchart {\n",
              "      --bg-color: #E8F0FE;\n",
              "      --fill-color: #1967D2;\n",
              "      --hover-bg-color: #E2EBFA;\n",
              "      --hover-fill-color: #174EA6;\n",
              "      --disabled-fill-color: #AAA;\n",
              "      --disabled-bg-color: #DDD;\n",
              "  }\n",
              "\n",
              "  [theme=dark] .colab-df-quickchart {\n",
              "      --bg-color: #3B4455;\n",
              "      --fill-color: #D2E3FC;\n",
              "      --hover-bg-color: #434B5C;\n",
              "      --hover-fill-color: #FFFFFF;\n",
              "      --disabled-bg-color: #3B4455;\n",
              "      --disabled-fill-color: #666;\n",
              "  }\n",
              "\n",
              "  .colab-df-quickchart {\n",
              "    background-color: var(--bg-color);\n",
              "    border: none;\n",
              "    border-radius: 50%;\n",
              "    cursor: pointer;\n",
              "    display: none;\n",
              "    fill: var(--fill-color);\n",
              "    height: 32px;\n",
              "    padding: 0;\n",
              "    width: 32px;\n",
              "  }\n",
              "\n",
              "  .colab-df-quickchart:hover {\n",
              "    background-color: var(--hover-bg-color);\n",
              "    box-shadow: 0 1px 2px rgba(60, 64, 67, 0.3), 0 1px 3px 1px rgba(60, 64, 67, 0.15);\n",
              "    fill: var(--button-hover-fill-color);\n",
              "  }\n",
              "\n",
              "  .colab-df-quickchart-complete:disabled,\n",
              "  .colab-df-quickchart-complete:disabled:hover {\n",
              "    background-color: var(--disabled-bg-color);\n",
              "    fill: var(--disabled-fill-color);\n",
              "    box-shadow: none;\n",
              "  }\n",
              "\n",
              "  .colab-df-spinner {\n",
              "    border: 2px solid var(--fill-color);\n",
              "    border-color: transparent;\n",
              "    border-bottom-color: var(--fill-color);\n",
              "    animation:\n",
              "      spin 1s steps(1) infinite;\n",
              "  }\n",
              "\n",
              "  @keyframes spin {\n",
              "    0% {\n",
              "      border-color: transparent;\n",
              "      border-bottom-color: var(--fill-color);\n",
              "      border-left-color: var(--fill-color);\n",
              "    }\n",
              "    20% {\n",
              "      border-color: transparent;\n",
              "      border-left-color: var(--fill-color);\n",
              "      border-top-color: var(--fill-color);\n",
              "    }\n",
              "    30% {\n",
              "      border-color: transparent;\n",
              "      border-left-color: var(--fill-color);\n",
              "      border-top-color: var(--fill-color);\n",
              "      border-right-color: var(--fill-color);\n",
              "    }\n",
              "    40% {\n",
              "      border-color: transparent;\n",
              "      border-right-color: var(--fill-color);\n",
              "      border-top-color: var(--fill-color);\n",
              "    }\n",
              "    60% {\n",
              "      border-color: transparent;\n",
              "      border-right-color: var(--fill-color);\n",
              "    }\n",
              "    80% {\n",
              "      border-color: transparent;\n",
              "      border-right-color: var(--fill-color);\n",
              "      border-bottom-color: var(--fill-color);\n",
              "    }\n",
              "    90% {\n",
              "      border-color: transparent;\n",
              "      border-bottom-color: var(--fill-color);\n",
              "    }\n",
              "  }\n",
              "</style>\n",
              "\n",
              "  <script>\n",
              "    async function quickchart(key) {\n",
              "      const quickchartButtonEl =\n",
              "        document.querySelector('#' + key + ' button');\n",
              "      quickchartButtonEl.disabled = true;  // To prevent multiple clicks.\n",
              "      quickchartButtonEl.classList.add('colab-df-spinner');\n",
              "      try {\n",
              "        const charts = await google.colab.kernel.invokeFunction(\n",
              "            'suggestCharts', [key], {});\n",
              "      } catch (error) {\n",
              "        console.error('Error during call to suggestCharts:', error);\n",
              "      }\n",
              "      quickchartButtonEl.classList.remove('colab-df-spinner');\n",
              "      quickchartButtonEl.classList.add('colab-df-quickchart-complete');\n",
              "    }\n",
              "    (() => {\n",
              "      let quickchartButtonEl =\n",
              "        document.querySelector('#df-861c660c-378f-4c29-b8f9-1308d9615cb7 button');\n",
              "      quickchartButtonEl.style.display =\n",
              "        google.colab.kernel.accessAllowed ? 'block' : 'none';\n",
              "    })();\n",
              "  </script>\n",
              "</div>\n",
              "    </div>\n",
              "  </div>\n"
            ]
          },
          "metadata": {},
          "execution_count": 19
        }
      ]
    },
    {
      "cell_type": "markdown",
      "source": [
        "## 2. Make X and y datasets"
      ],
      "metadata": {
        "id": "f7qlDZLP4Ehf"
      }
    },
    {
      "cell_type": "markdown",
      "source": [
        "### 2.1 Put labels and image data into dataset"
      ],
      "metadata": {
        "id": "MC9RQBLeZnTz"
      }
    },
    {
      "cell_type": "code",
      "source": [
        "print(df.columns)"
      ],
      "metadata": {
        "id": "5blCMCso5xTh",
        "colab": {
          "base_uri": "https://localhost:8080/"
        },
        "outputId": "4c91d043-8c69-4368-c248-9a1c705886d0"
      },
      "execution_count": null,
      "outputs": [
        {
          "output_type": "stream",
          "name": "stdout",
          "text": [
            "Index(['label', 'pixel0', 'pixel1', 'pixel2', 'pixel3', 'pixel4', 'pixel5',\n",
            "       'pixel6', 'pixel7', 'pixel8',\n",
            "       ...\n",
            "       'pixel774', 'pixel775', 'pixel776', 'pixel777', 'pixel778', 'pixel779',\n",
            "       'pixel780', 'pixel781', 'pixel782', 'pixel783'],\n",
            "      dtype='object', length=785)\n"
          ]
        }
      ]
    },
    {
      "cell_type": "code",
      "source": [
        "X_train = df.drop(columns=['label'])\n",
        "y_train = df['label']\n",
        "X_test = test_df"
      ],
      "metadata": {
        "id": "vVaGk99a6aE4"
      },
      "execution_count": null,
      "outputs": []
    },
    {
      "cell_type": "markdown",
      "source": [
        "### 2.2 Normalize X datasets"
      ],
      "metadata": {
        "id": "zAI-JECeg80q"
      }
    },
    {
      "cell_type": "code",
      "source": [
        "X_train /= 255.\n",
        "X_test /= 255.\n",
        "print(X_train.head())\n",
        "print(X_test.head())"
      ],
      "metadata": {
        "colab": {
          "base_uri": "https://localhost:8080/"
        },
        "id": "qfcS0znlg-vy",
        "outputId": "6e801fac-5ac0-46bb-ab9f-7eb42d0b714a"
      },
      "execution_count": null,
      "outputs": [
        {
          "output_type": "stream",
          "name": "stdout",
          "text": [
            "   pixel0  pixel1  pixel2  pixel3  pixel4  pixel5  pixel6  pixel7  pixel8  \\\n",
            "0     0.0     0.0     0.0     0.0     0.0     0.0     0.0     0.0     0.0   \n",
            "1     0.0     0.0     0.0     0.0     0.0     0.0     0.0     0.0     0.0   \n",
            "2     0.0     0.0     0.0     0.0     0.0     0.0     0.0     0.0     0.0   \n",
            "3     0.0     0.0     0.0     0.0     0.0     0.0     0.0     0.0     0.0   \n",
            "4     0.0     0.0     0.0     0.0     0.0     0.0     0.0     0.0     0.0   \n",
            "\n",
            "   pixel9  ...  pixel774  pixel775  pixel776  pixel777  pixel778  pixel779  \\\n",
            "0     0.0  ...       0.0       0.0       0.0       0.0       0.0       0.0   \n",
            "1     0.0  ...       0.0       0.0       0.0       0.0       0.0       0.0   \n",
            "2     0.0  ...       0.0       0.0       0.0       0.0       0.0       0.0   \n",
            "3     0.0  ...       0.0       0.0       0.0       0.0       0.0       0.0   \n",
            "4     0.0  ...       0.0       0.0       0.0       0.0       0.0       0.0   \n",
            "\n",
            "   pixel780  pixel781  pixel782  pixel783  \n",
            "0       0.0       0.0       0.0       0.0  \n",
            "1       0.0       0.0       0.0       0.0  \n",
            "2       0.0       0.0       0.0       0.0  \n",
            "3       0.0       0.0       0.0       0.0  \n",
            "4       0.0       0.0       0.0       0.0  \n",
            "\n",
            "[5 rows x 784 columns]\n",
            "   pixel0  pixel1  pixel2  pixel3  pixel4  pixel5  pixel6  pixel7  pixel8  \\\n",
            "0     0.0     0.0     0.0     0.0     0.0     0.0     0.0     0.0     0.0   \n",
            "1     0.0     0.0     0.0     0.0     0.0     0.0     0.0     0.0     0.0   \n",
            "2     0.0     0.0     0.0     0.0     0.0     0.0     0.0     0.0     0.0   \n",
            "3     0.0     0.0     0.0     0.0     0.0     0.0     0.0     0.0     0.0   \n",
            "4     0.0     0.0     0.0     0.0     0.0     0.0     0.0     0.0     0.0   \n",
            "\n",
            "   pixel9  ...  pixel774  pixel775  pixel776  pixel777  pixel778  pixel779  \\\n",
            "0     0.0  ...       0.0       0.0       0.0       0.0       0.0       0.0   \n",
            "1     0.0  ...       0.0       0.0       0.0       0.0       0.0       0.0   \n",
            "2     0.0  ...       0.0       0.0       0.0       0.0       0.0       0.0   \n",
            "3     0.0  ...       0.0       0.0       0.0       0.0       0.0       0.0   \n",
            "4     0.0  ...       0.0       0.0       0.0       0.0       0.0       0.0   \n",
            "\n",
            "   pixel780  pixel781  pixel782  pixel783  \n",
            "0       0.0       0.0       0.0       0.0  \n",
            "1       0.0       0.0       0.0       0.0  \n",
            "2       0.0       0.0       0.0       0.0  \n",
            "3       0.0       0.0       0.0       0.0  \n",
            "4       0.0       0.0       0.0       0.0  \n",
            "\n",
            "[5 rows x 784 columns]\n"
          ]
        }
      ]
    },
    {
      "cell_type": "markdown",
      "source": [
        "### 2.3 Reshape X datasets\n",
        "The Pictures are 784 pixels total which is 28*28.\n",
        "Reshape X_train and X_test to 28x28"
      ],
      "metadata": {
        "id": "0K4vDDRFiKgL"
      }
    },
    {
      "cell_type": "code",
      "source": [
        "X_train = X_train.values.reshape(-1, 28, 28, 1)\n",
        "X_test = X_test.values.reshape(-1, 28, 28, 1)\n",
        "X_train.shape, X_test.shape"
      ],
      "metadata": {
        "colab": {
          "base_uri": "https://localhost:8080/"
        },
        "id": "2OHiC9SqiqcL",
        "outputId": "10c353a8-49f0-4995-b33d-7c45d1763e76"
      },
      "execution_count": null,
      "outputs": [
        {
          "output_type": "execute_result",
          "data": {
            "text/plain": [
              "((42000, 28, 28, 1), (28000, 28, 28, 1))"
            ]
          },
          "metadata": {},
          "execution_count": 23
        }
      ]
    },
    {
      "cell_type": "markdown",
      "source": [
        "### 2.4 One hot encode y\n",
        "There are 10 different digits, so the number of classes will be 10"
      ],
      "metadata": {
        "id": "tbn_h5lpkDtS"
      }
    },
    {
      "cell_type": "code",
      "source": [
        "from keras.utils import to_categorical\n",
        "y_train = to_categorical(y_train, num_classes = 10)"
      ],
      "metadata": {
        "id": "VeWBomL-kovE"
      },
      "execution_count": null,
      "outputs": []
    },
    {
      "cell_type": "markdown",
      "source": [
        "### 2.5 Split training data to training and validation data"
      ],
      "metadata": {
        "id": "5LobwSyIawu8"
      }
    },
    {
      "cell_type": "code",
      "source": [
        "from sklearn.model_selection import train_test_split\n",
        "\n",
        "X_train, X_val, y_train, y_val = train_test_split(X_train, y_train, test_size=.1, random_state=42, shuffle=True)\n",
        "\n",
        "print(len(X_train))\n",
        "print(len(y_train))\n",
        "print(len(X_val))\n",
        "print(len(y_val))"
      ],
      "metadata": {
        "id": "9AQRo6dC4GHo",
        "colab": {
          "base_uri": "https://localhost:8080/"
        },
        "outputId": "ccef8c81-dba7-4d14-824d-b9c7e966e29f"
      },
      "execution_count": null,
      "outputs": [
        {
          "output_type": "stream",
          "name": "stdout",
          "text": [
            "37800\n",
            "37800\n",
            "4200\n",
            "4200\n"
          ]
        }
      ]
    },
    {
      "cell_type": "markdown",
      "source": [
        "## 3. Visualize data"
      ],
      "metadata": {
        "id": "InfYqFeq8tuz"
      }
    },
    {
      "cell_type": "markdown",
      "source": [
        "### 3.1 Plot random images with labels"
      ],
      "metadata": {
        "id": "Yx29DSjJ9V6U"
      }
    },
    {
      "cell_type": "code",
      "source": [
        "import matplotlib.pyplot as plt\n",
        "import random\n",
        "import numpy as np\n",
        "\n",
        "def plot_n_random_images(n=5):\n",
        "\n",
        "  \"\"\"\n",
        "  Plots n random images with labels as titles\n",
        "  \"\"\"\n",
        "\n",
        "  fig = plt.figure(figsize=(10, 7))\n",
        "\n",
        "  for i in range(1,n+1):\n",
        "    rand_id = random.randint(0, 4200-1)\n",
        "\n",
        "    img = X_train[rand_id][:, :, 0]\n",
        "    label = y_train[rand_id]\n",
        "\n",
        "    fig.add_subplot(1,5,i)\n",
        "    plt.imshow(img)\n",
        "    plt.axis(False)\n",
        "    plt.title(f\"Answer: {np.where(y_train[rand_id] == 1)[0]}\")\n",
        "\n",
        "  plt.show()"
      ],
      "metadata": {
        "id": "3S6hQte48tHE"
      },
      "execution_count": null,
      "outputs": []
    },
    {
      "cell_type": "code",
      "source": [
        "plot_n_random_images()"
      ],
      "metadata": {
        "colab": {
          "base_uri": "https://localhost:8080/",
          "height": 192
        },
        "id": "FTpMnPF3QocB",
        "outputId": "451d48e3-1e7f-46d0-9717-c267189ed6c6"
      },
      "execution_count": null,
      "outputs": [
        {
          "output_type": "display_data",
          "data": {
            "text/plain": [
              "<Figure size 1000x700 with 5 Axes>"
            ],
            "image/png": "[encoded data removed]"
          },
          "metadata": {}
        }
      ]
    },
    {
      "cell_type": "markdown",
      "source": [
        "## 4. Preprocess Images"
      ],
      "metadata": {
        "id": "v4xsi3pzWCqW"
      }
    },
    {
      "cell_type": "markdown",
      "source": [
        "### 4.1 Create Augmentation Datagen"
      ],
      "metadata": {
        "id": "CLp_kUHyWJti"
      }
    },
    {
      "cell_type": "code",
      "source": [
        "from tensorflow.keras.preprocessing.image import ImageDataGenerator\n",
        "\n",
        "datagen = ImageDataGenerator(rotation_range=10, # shouldn't be too high because it could change a number\n",
        "                             width_shift_range=0.1,\n",
        "                             height_shift_range=0.1,\n",
        "                             zoom_range=0.1)"
      ],
      "metadata": {
        "id": "cN4RJDiJWNB1"
      },
      "execution_count": null,
      "outputs": []
    },
    {
      "cell_type": "markdown",
      "source": [
        "### 4.2 Fit Training Data to Datagen"
      ],
      "metadata": {
        "id": "OoFyYOVgXccC"
      }
    },
    {
      "cell_type": "code",
      "source": [
        "datagen.fit(X_train)"
      ],
      "metadata": {
        "id": "xBYnOp8tXhET"
      },
      "execution_count": null,
      "outputs": []
    },
    {
      "cell_type": "markdown",
      "source": [
        "### 4.3 Create and Batch Training and Validation Datasets"
      ],
      "metadata": {
        "id": "hiTO_8IRX0Nu"
      }
    },
    {
      "cell_type": "code",
      "source": [
        "batch_size = 64\n",
        "train_data = datagen.flow(X_train, y_train, batch_size=batch_size)\n",
        "val_data = (X_val, y_val)"
      ],
      "metadata": {
        "id": "msyQIS1TX8Jt"
      },
      "execution_count": null,
      "outputs": []
    },
    {
      "cell_type": "markdown",
      "source": [
        "## 5. Build and train the model"
      ],
      "metadata": {
        "id": "BZFtQtUImtx2"
      }
    },
    {
      "cell_type": "markdown",
      "source": [
        "### 5.1 Build and train the base model (Basic CNN)"
      ],
      "metadata": {
        "id": "AdJ_UvIRQ9K6"
      }
    },
    {
      "cell_type": "markdown",
      "source": [
        "#### 5.1.1 Build the base model"
      ],
      "metadata": {
        "id": "gxClWKPNngkf"
      }
    },
    {
      "cell_type": "code",
      "source": [
        "num_classes = 10"
      ],
      "metadata": {
        "id": "PIzIL1NQUhbi"
      },
      "execution_count": null,
      "outputs": []
    },
    {
      "cell_type": "code",
      "source": [
        "import tensorflow as tf\n",
        "from tensorflow.keras import Sequential, layers\n",
        "\n",
        "# create\n",
        "model_0 = Sequential([\n",
        "    layers.Conv2D(32, 3, activation='relu', input_shape=(28,28,1)),\n",
        "    layers.MaxPooling2D(),\n",
        "    layers.Flatten(),\n",
        "    layers.Dense(64, activation='relu'),\n",
        "    layers.Dense(10, activation='softmax')\n",
        "])\n",
        "\n",
        "# compile\n",
        "model_0.compile(optimizer=tf.keras.optimizers.Adam(),\n",
        "                loss=tf.keras.losses.CategoricalCrossentropy(),\n",
        "                metrics=['accuracy'])\n",
        "\n",
        "# get summary\n",
        "model_0.summary()"
      ],
      "metadata": {
        "id": "VRm6W4_qRBWB",
        "colab": {
          "base_uri": "https://localhost:8080/"
        },
        "outputId": "3451babb-31da-44a3-cbe5-cdc0cf16bb6d"
      },
      "execution_count": null,
      "outputs": [
        {
          "output_type": "stream",
          "name": "stdout",
          "text": [
            "Model: \"sequential_10\"\n",
            "_________________________________________________________________\n",
            " Layer (type)                Output Shape              Param #   \n",
            "=================================================================\n",
            " conv2d_19 (Conv2D)          (None, 26, 26, 32)        320       \n",
            "                                                                 \n",
            " max_pooling2d_15 (MaxPooli  (None, 13, 13, 32)        0         \n",
            " ng2D)                                                           \n",
            "                                                                 \n",
            " flatten_6 (Flatten)         (None, 5408)              0         \n",
            "                                                                 \n",
            " dense_20 (Dense)            (None, 64)                346176    \n",
            "                                                                 \n",
            " dense_21 (Dense)            (None, 10)                650       \n",
            "                                                                 \n",
            "=================================================================\n",
            "Total params: 347146 (1.32 MB)\n",
            "Trainable params: 347146 (1.32 MB)\n",
            "Non-trainable params: 0 (0.00 Byte)\n",
            "_________________________________________________________________\n"
          ]
        }
      ]
    },
    {
      "cell_type": "markdown",
      "source": [
        "#### 5.1.2 Fit Data to Base Model"
      ],
      "metadata": {
        "id": "zbt1Gb8Bnl5A"
      }
    },
    {
      "cell_type": "code",
      "source": [
        "# fit\n",
        "\n",
        "history_0 = model_0.fit(train_data,\n",
        "                        epochs=10,\n",
        "                        validation_data=val_data,\n",
        "                        validation_steps=0.5 * len(val_data))"
      ],
      "metadata": {
        "colab": {
          "base_uri": "https://localhost:8080/"
        },
        "id": "_8gNKQUQVHQx",
        "outputId": "f1f7cce9-7d20-43fa-d4da-8c0dd5506c43"
      },
      "execution_count": null,
      "outputs": [
        {
          "output_type": "stream",
          "name": "stdout",
          "text": [
            "Epoch 1/10\n",
            "591/591 [==============================] - 17s 26ms/step - loss: 0.5532 - accuracy: 0.8269 - val_loss: 0.1406 - val_accuracy: 0.9605\n",
            "Epoch 2/10\n",
            "591/591 [==============================] - 14s 24ms/step - loss: 0.2040 - accuracy: 0.9390 - val_loss: 0.0905 - val_accuracy: 0.9712\n",
            "Epoch 3/10\n",
            "591/591 [==============================] - 15s 25ms/step - loss: 0.1589 - accuracy: 0.9514 - val_loss: 0.0794 - val_accuracy: 0.9743\n",
            "Epoch 4/10\n",
            "591/591 [==============================] - 15s 25ms/step - loss: 0.1379 - accuracy: 0.9582 - val_loss: 0.0878 - val_accuracy: 0.9717\n",
            "Epoch 5/10\n",
            "591/591 [==============================] - 15s 25ms/step - loss: 0.1242 - accuracy: 0.9621 - val_loss: 0.0649 - val_accuracy: 0.9802\n",
            "Epoch 6/10\n",
            "591/591 [==============================] - 14s 24ms/step - loss: 0.1088 - accuracy: 0.9672 - val_loss: 0.0755 - val_accuracy: 0.9779\n",
            "Epoch 7/10\n",
            "591/591 [==============================] - 16s 26ms/step - loss: 0.1011 - accuracy: 0.9685 - val_loss: 0.0681 - val_accuracy: 0.9788\n",
            "Epoch 8/10\n",
            "591/591 [==============================] - 14s 24ms/step - loss: 0.0962 - accuracy: 0.9707 - val_loss: 0.0541 - val_accuracy: 0.9821\n",
            "Epoch 9/10\n",
            "591/591 [==============================] - 14s 24ms/step - loss: 0.0866 - accuracy: 0.9735 - val_loss: 0.0603 - val_accuracy: 0.9819\n",
            "Epoch 10/10\n",
            "591/591 [==============================] - 14s 24ms/step - loss: 0.0830 - accuracy: 0.9740 - val_loss: 0.0472 - val_accuracy: 0.9845\n"
          ]
        }
      ]
    },
    {
      "cell_type": "markdown",
      "source": [
        "#### 5.1.2 Plot Loss Curves of the Base Model"
      ],
      "metadata": {
        "id": "wWF7-q8hnaxM"
      }
    },
    {
      "cell_type": "code",
      "source": [
        "def plot_loss_curves(history):\n",
        "  \"\"\"\n",
        "  Returns separate loss curves for training and validation metrics.\n",
        "  \"\"\"\n",
        "\n",
        "  loss = history.history['loss']\n",
        "  val_loss = history.history['val_loss']\n",
        "\n",
        "  accuracy = history.history['accuracy']\n",
        "  val_accuracy = history.history['val_accuracy']\n",
        "\n",
        "  epochs = range(len(history.history['loss']))\n",
        "\n",
        "  # plot loss\n",
        "  plt.plot(epochs,loss,label='train_loss')\n",
        "  plt.plot(epochs,val_loss,label='test_loss')\n",
        "  plt.title('Losses')\n",
        "  plt.xlabel('Epochs')\n",
        "  plt.legend()\n",
        "\n",
        "  #plot accuracy\n",
        "  plt.figure()\n",
        "  plt.plot(epochs, accuracy, label='train_acc')\n",
        "  plt.plot(epochs, val_accuracy, label='val_acc')\n",
        "  plt.xlabel('Epochs')\n",
        "  plt.title('Accuracy')\n",
        "  plt.legend"
      ],
      "metadata": {
        "id": "F0odbPh6nwNk"
      },
      "execution_count": null,
      "outputs": []
    },
    {
      "cell_type": "code",
      "source": [
        "plot_loss_curves(history_0)"
      ],
      "metadata": {
        "colab": {
          "base_uri": "https://localhost:8080/",
          "height": 927
        },
        "id": "4JHidUZ8oBMd",
        "outputId": "72bc1c15-b260-4fc1-d755-46826bc958f3"
      },
      "execution_count": null,
      "outputs": [
        {
          "output_type": "display_data",
          "data": {
            "text/plain": [
              "<Figure size 640x480 with 1 Axes>"
            ],
            "image/png": "[encoded data removed]"
          },
          "metadata": {}
        },
        {
          "output_type": "display_data",
          "data": {
            "text/plain": [
              "<Figure size 640x480 with 1 Axes>"
            ],
            "image/png": "[encoded data removed]"
          },
          "metadata": {}
        }
      ]
    },
    {
      "cell_type": "markdown",
      "source": [
        "### 5.2 CNN model with Dropout, Batch Normalization and Callbacks"
      ],
      "metadata": {
        "id": "RJuYrHhAnDKv"
      }
    },
    {
      "cell_type": "markdown",
      "source": [
        "#### 5.2.1 EarlyStopping callback"
      ],
      "metadata": {
        "id": "caGWekeLngz-"
      }
    },
    {
      "cell_type": "code",
      "source": [
        "early_stopping = tf.keras.callbacks.EarlyStopping(monitor=\"val_loss\",\n",
        "                                                  patience=4)"
      ],
      "metadata": {
        "id": "_r9sG_MTniaT"
      },
      "execution_count": null,
      "outputs": []
    },
    {
      "cell_type": "markdown",
      "source": [
        "#### 5.2.2 ReduceLrOnPlateu Callback"
      ],
      "metadata": {
        "id": "hM-uY_xQnvrs"
      }
    },
    {
      "cell_type": "code",
      "source": [
        "reduce_lr = tf.keras.callbacks.ReduceLROnPlateau(monitor=\"val_loss\",\n",
        "                                                 factor=0.2,\n",
        "                                                 patience=2,\n",
        "                                                 verbose=1,\n",
        "                                                 min_lr=1e-7)"
      ],
      "metadata": {
        "id": "uY5SAm5pn0Ag"
      },
      "execution_count": null,
      "outputs": []
    },
    {
      "cell_type": "markdown",
      "source": [
        "#### 5.2.3 Build the model"
      ],
      "metadata": {
        "id": "Pvnqcfl8pjD5"
      }
    },
    {
      "cell_type": "code",
      "source": [
        "import tensorflow as tf\n",
        "from tensorflow.keras import Sequential, layers\n",
        "\n",
        "# create\n",
        "model_1 = Sequential([\n",
        "    layers.Conv2D(32, 3, padding='same', activation='relu', input_shape=(28,28,1)),\n",
        "    layers.Conv2D(32, 3, padding='same', activation='relu', input_shape=(28,28,1)),\n",
        "    layers.MaxPooling2D(),\n",
        "    layers.Dropout(0.15),\n",
        "    layers.BatchNormalization(),\n",
        "\n",
        "    layers.Conv2D(32, 3, padding='same', activation='relu', input_shape=(28,28,1)),\n",
        "    layers.MaxPooling2D(),\n",
        "    layers.Dropout(0.15),\n",
        "    layers.BatchNormalization(),\n",
        "\n",
        "    layers.Flatten(),\n",
        "\n",
        "    layers.Dense(64, activation='relu'),\n",
        "    layers.Dropout(0.15),\n",
        "    layers.BatchNormalization(),\n",
        "\n",
        "    layers.Dense(10, activation='softmax')\n",
        "])\n",
        "\n",
        "# compile\n",
        "model_1.compile(optimizer=tf.keras.optimizers.Adam(),\n",
        "                loss=tf.keras.losses.CategoricalCrossentropy(),\n",
        "                metrics=['accuracy'])\n",
        "\n",
        "# get summary\n",
        "model_1.summary()"
      ],
      "metadata": {
        "id": "Gpx3EjJTnmEn",
        "colab": {
          "base_uri": "https://localhost:8080/"
        },
        "outputId": "bdd836e5-9c86-4c98-9843-bfae240424f3"
      },
      "execution_count": null,
      "outputs": [
        {
          "output_type": "stream",
          "name": "stdout",
          "text": [
            "Model: \"sequential_17\"\n",
            "_________________________________________________________________\n",
            " Layer (type)                Output Shape              Param #   \n",
            "=================================================================\n",
            " conv2d_35 (Conv2D)          (None, 28, 28, 32)        320       \n",
            "                                                                 \n",
            " conv2d_36 (Conv2D)          (None, 28, 28, 32)        9248      \n",
            "                                                                 \n",
            " max_pooling2d_28 (MaxPooli  (None, 14, 14, 32)        0         \n",
            " ng2D)                                                           \n",
            "                                                                 \n",
            " dropout_33 (Dropout)        (None, 14, 14, 32)        0         \n",
            "                                                                 \n",
            " batch_normalization_33 (Ba  (None, 14, 14, 32)        128       \n",
            " tchNormalization)                                               \n",
            "                                                                 \n",
            " conv2d_37 (Conv2D)          (None, 14, 14, 32)        9248      \n",
            "                                                                 \n",
            " max_pooling2d_29 (MaxPooli  (None, 7, 7, 32)          0         \n",
            " ng2D)                                                           \n",
            "                                                                 \n",
            " dropout_34 (Dropout)        (None, 7, 7, 32)          0         \n",
            "                                                                 \n",
            " batch_normalization_34 (Ba  (None, 7, 7, 32)          128       \n",
            " tchNormalization)                                               \n",
            "                                                                 \n",
            " flatten_13 (Flatten)        (None, 1568)              0         \n",
            "                                                                 \n",
            " dense_34 (Dense)            (None, 64)                100416    \n",
            "                                                                 \n",
            " dropout_35 (Dropout)        (None, 64)                0         \n",
            "                                                                 \n",
            " batch_normalization_35 (Ba  (None, 64)                256       \n",
            " tchNormalization)                                               \n",
            "                                                                 \n",
            " dense_35 (Dense)            (None, 10)                650       \n",
            "                                                                 \n",
            "=================================================================\n",
            "Total params: 120394 (470.29 KB)\n",
            "Trainable params: 120138 (469.29 KB)\n",
            "Non-trainable params: 256 (1.00 KB)\n",
            "_________________________________________________________________\n"
          ]
        }
      ]
    },
    {
      "cell_type": "markdown",
      "source": [
        "#### 5.2.4 Fit the model"
      ],
      "metadata": {
        "id": "5WFI6aeAtnYA"
      }
    },
    {
      "cell_type": "code",
      "source": [
        "history_1 = model_1.fit(train_data,\n",
        "                        epochs=50,\n",
        "                        steps_per_epoch=len(train_data),\n",
        "                        validation_data=val_data,\n",
        "                        validation_steps=len(val_data),\n",
        "                        callbacks=[early_stopping, reduce_lr])"
      ],
      "metadata": {
        "colab": {
          "base_uri": "https://localhost:8080/"
        },
        "id": "QtDo_WjDtooa",
        "outputId": "dfea2ff5-5d50-4a1a-e585-746e7695d592"
      },
      "execution_count": null,
      "outputs": [
        {
          "output_type": "stream",
          "name": "stdout",
          "text": [
            "Epoch 1/50\n",
            "591/591 [==============================] - 21s 28ms/step - loss: 0.4182 - accuracy: 0.8727 - val_loss: 0.3772 - val_accuracy: 0.8760 - lr: 0.0010\n",
            "Epoch 2/50\n",
            "591/591 [==============================] - 16s 27ms/step - loss: 0.1374 - accuracy: 0.9592 - val_loss: 0.0583 - val_accuracy: 0.9810 - lr: 0.0010\n",
            "Epoch 3/50\n",
            "591/591 [==============================] - 17s 30ms/step - loss: 0.1031 - accuracy: 0.9691 - val_loss: 0.0616 - val_accuracy: 0.9824 - lr: 0.0010\n",
            "Epoch 4/50\n",
            "591/591 [==============================] - 16s 28ms/step - loss: 0.0904 - accuracy: 0.9729 - val_loss: 0.0352 - val_accuracy: 0.9883 - lr: 0.0010\n",
            "Epoch 5/50\n",
            "591/591 [==============================] - 20s 33ms/step - loss: 0.0828 - accuracy: 0.9755 - val_loss: 0.0393 - val_accuracy: 0.9893 - lr: 0.0010\n",
            "Epoch 6/50\n",
            "591/591 [==============================] - 16s 27ms/step - loss: 0.0697 - accuracy: 0.9788 - val_loss: 0.0345 - val_accuracy: 0.9883 - lr: 0.0010\n",
            "Epoch 7/50\n",
            "591/591 [==============================] - 20s 33ms/step - loss: 0.0651 - accuracy: 0.9801 - val_loss: 0.0373 - val_accuracy: 0.9871 - lr: 0.0010\n",
            "Epoch 8/50\n",
            "591/591 [==============================] - 17s 28ms/step - loss: 0.0580 - accuracy: 0.9818 - val_loss: 0.0296 - val_accuracy: 0.9895 - lr: 0.0010\n",
            "Epoch 9/50\n",
            "591/591 [==============================] - 16s 28ms/step - loss: 0.0584 - accuracy: 0.9824 - val_loss: 0.0285 - val_accuracy: 0.9905 - lr: 0.0010\n",
            "Epoch 10/50\n",
            "591/591 [==============================] - 16s 27ms/step - loss: 0.0552 - accuracy: 0.9832 - val_loss: 0.0321 - val_accuracy: 0.9886 - lr: 0.0010\n",
            "Epoch 11/50\n",
            "591/591 [==============================] - 19s 32ms/step - loss: 0.0528 - accuracy: 0.9837 - val_loss: 0.0254 - val_accuracy: 0.9914 - lr: 0.0010\n",
            "Epoch 12/50\n",
            "591/591 [==============================] - 16s 27ms/step - loss: 0.0508 - accuracy: 0.9851 - val_loss: 0.0348 - val_accuracy: 0.9874 - lr: 0.0010\n",
            "Epoch 13/50\n",
            "590/591 [============================>.] - ETA: 0s - loss: 0.0494 - accuracy: 0.9843\n",
            "Epoch 13: ReduceLROnPlateau reducing learning rate to 0.00020000000949949026.\n",
            "591/591 [==============================] - 16s 27ms/step - loss: 0.0494 - accuracy: 0.9843 - val_loss: 0.0268 - val_accuracy: 0.9900 - lr: 0.0010\n",
            "Epoch 14/50\n",
            "591/591 [==============================] - 16s 27ms/step - loss: 0.0409 - accuracy: 0.9875 - val_loss: 0.0199 - val_accuracy: 0.9929 - lr: 2.0000e-04\n",
            "Epoch 15/50\n",
            "591/591 [==============================] - 17s 29ms/step - loss: 0.0363 - accuracy: 0.9883 - val_loss: 0.0193 - val_accuracy: 0.9938 - lr: 2.0000e-04\n",
            "Epoch 16/50\n",
            "591/591 [==============================] - 16s 27ms/step - loss: 0.0351 - accuracy: 0.9896 - val_loss: 0.0202 - val_accuracy: 0.9933 - lr: 2.0000e-04\n",
            "Epoch 17/50\n",
            "591/591 [==============================] - 17s 28ms/step - loss: 0.0354 - accuracy: 0.9893 - val_loss: 0.0191 - val_accuracy: 0.9926 - lr: 2.0000e-04\n",
            "Epoch 18/50\n",
            "591/591 [==============================] - 16s 28ms/step - loss: 0.0343 - accuracy: 0.9899 - val_loss: 0.0184 - val_accuracy: 0.9938 - lr: 2.0000e-04\n",
            "Epoch 19/50\n",
            "591/591 [==============================] - 16s 27ms/step - loss: 0.0330 - accuracy: 0.9901 - val_loss: 0.0188 - val_accuracy: 0.9926 - lr: 2.0000e-04\n",
            "Epoch 20/50\n",
            "589/591 [============================>.] - ETA: 0s - loss: 0.0310 - accuracy: 0.9904\n",
            "Epoch 20: ReduceLROnPlateau reducing learning rate to 4.0000001899898055e-05.\n",
            "591/591 [==============================] - 16s 27ms/step - loss: 0.0310 - accuracy: 0.9904 - val_loss: 0.0191 - val_accuracy: 0.9933 - lr: 2.0000e-04\n",
            "Epoch 21/50\n",
            "591/591 [==============================] - 17s 28ms/step - loss: 0.0309 - accuracy: 0.9909 - val_loss: 0.0191 - val_accuracy: 0.9936 - lr: 4.0000e-05\n",
            "Epoch 22/50\n",
            "591/591 [==============================] - ETA: 0s - loss: 0.0300 - accuracy: 0.9911\n",
            "Epoch 22: ReduceLROnPlateau reducing learning rate to 8.000000525498762e-06.\n",
            "591/591 [==============================] - 16s 27ms/step - loss: 0.0300 - accuracy: 0.9911 - val_loss: 0.0187 - val_accuracy: 0.9938 - lr: 4.0000e-05\n"
          ]
        }
      ]
    },
    {
      "cell_type": "markdown",
      "source": [
        "#### 5.2.5 Plot Loss Curves"
      ],
      "metadata": {
        "id": "Y5L5eWW65FNc"
      }
    },
    {
      "cell_type": "code",
      "source": [
        "plot_loss_curves(history_1)"
      ],
      "metadata": {
        "colab": {
          "base_uri": "https://localhost:8080/",
          "height": 927
        },
        "id": "dL-OlX7R5ckq",
        "outputId": "085e393e-4ddc-464a-9867-4402ee33da6b"
      },
      "execution_count": null,
      "outputs": [
        {
          "output_type": "display_data",
          "data": {
            "text/plain": [
              "<Figure size 640x480 with 1 Axes>"
            ],
            "image/png": "[encoded data removed]"
          },
          "metadata": {}
        },
        {
          "output_type": "display_data",
          "data": {
            "text/plain": [
              "<Figure size 640x480 with 1 Axes>"
            ],
            "image/png": "[encoded data removed]"
          },
          "metadata": {}
        }
      ]
    },
    {
      "cell_type": "markdown",
      "source": [
        "### 5.3 More Layers and Denser CNN Model"
      ],
      "metadata": {
        "id": "VfTDazc_wB8w"
      }
    },
    {
      "cell_type": "markdown",
      "source": [
        "#### 5.3.1 Build the Model"
      ],
      "metadata": {
        "id": "pds5SZiDugwV"
      }
    },
    {
      "cell_type": "code",
      "source": [
        "import tensorflow as tf\n",
        "from tensorflow.keras import Sequential, layers\n",
        "\n",
        "tf.random.set_seed(42)\n",
        "\n",
        "# create\n",
        "model_2 = Sequential([\n",
        "    layers.Conv2D(32, 3, padding='same', activation='relu', input_shape=(28,28,1)),\n",
        "    layers.Conv2D(32, 3, padding='same', activation='relu', input_shape=(28,28,1)),\n",
        "    layers.MaxPooling2D(),\n",
        "    layers.Dropout(0.2),\n",
        "    layers.BatchNormalization(),\n",
        "\n",
        "    layers.Conv2D(64, 3, padding='same', activation='relu', input_shape=(28,28,1)),\n",
        "    layers.MaxPooling2D(),\n",
        "    layers.Dropout(0.2),\n",
        "    layers.BatchNormalization(),\n",
        "\n",
        "    layers.Flatten(),\n",
        "\n",
        "    layers.Dense(128, activation='relu'),\n",
        "    layers.Dropout(0.2),\n",
        "    layers.BatchNormalization(),\n",
        "\n",
        "\n",
        "    layers.Dense(10, activation='softmax')\n",
        "])\n",
        "\n",
        "# compile\n",
        "model_2.compile(optimizer=tf.keras.optimizers.Adam(),\n",
        "                loss=tf.keras.losses.CategoricalCrossentropy(),\n",
        "                metrics=['accuracy'])\n",
        "\n",
        "# get summary\n",
        "model_2.summary()"
      ],
      "metadata": {
        "id": "QW7feA-vwA27",
        "colab": {
          "base_uri": "https://localhost:8080/"
        },
        "outputId": "93c6a2a1-ef60-4f7a-b458-3bcde5b9a2a4"
      },
      "execution_count": null,
      "outputs": [
        {
          "output_type": "stream",
          "name": "stdout",
          "text": [
            "Model: \"sequential_21\"\n",
            "_________________________________________________________________\n",
            " Layer (type)                Output Shape              Param #   \n",
            "=================================================================\n",
            " conv2d_49 (Conv2D)          (None, 28, 28, 32)        320       \n",
            "                                                                 \n",
            " conv2d_50 (Conv2D)          (None, 28, 28, 32)        9248      \n",
            "                                                                 \n",
            " max_pooling2d_38 (MaxPooli  (None, 14, 14, 32)        0         \n",
            " ng2D)                                                           \n",
            "                                                                 \n",
            " dropout_47 (Dropout)        (None, 14, 14, 32)        0         \n",
            "                                                                 \n",
            " batch_normalization_47 (Ba  (None, 14, 14, 32)        128       \n",
            " tchNormalization)                                               \n",
            "                                                                 \n",
            " conv2d_51 (Conv2D)          (None, 14, 14, 64)        18496     \n",
            "                                                                 \n",
            " max_pooling2d_39 (MaxPooli  (None, 7, 7, 64)          0         \n",
            " ng2D)                                                           \n",
            "                                                                 \n",
            " dropout_48 (Dropout)        (None, 7, 7, 64)          0         \n",
            "                                                                 \n",
            " batch_normalization_48 (Ba  (None, 7, 7, 64)          256       \n",
            " tchNormalization)                                               \n",
            "                                                                 \n",
            " flatten_17 (Flatten)        (None, 3136)              0         \n",
            "                                                                 \n",
            " dense_42 (Dense)            (None, 128)               401536    \n",
            "                                                                 \n",
            " dropout_49 (Dropout)        (None, 128)               0         \n",
            "                                                                 \n",
            " batch_normalization_49 (Ba  (None, 128)               512       \n",
            " tchNormalization)                                               \n",
            "                                                                 \n",
            " dense_43 (Dense)            (None, 10)                1290      \n",
            "                                                                 \n",
            "=================================================================\n",
            "Total params: 431786 (1.65 MB)\n",
            "Trainable params: 431338 (1.65 MB)\n",
            "Non-trainable params: 448 (1.75 KB)\n",
            "_________________________________________________________________\n"
          ]
        }
      ]
    },
    {
      "cell_type": "markdown",
      "source": [
        "#### 5.3.2 Fit The Model"
      ],
      "metadata": {
        "id": "Da0GUPVDulmk"
      }
    },
    {
      "cell_type": "code",
      "source": [
        "history_2 = model_2.fit(train_data,\n",
        "                  epochs=50,\n",
        "                  steps_per_epoch=len(train_data),\n",
        "                  validation_data=val_data,\n",
        "                  validation_steps=len(val_data),\n",
        "                  callbacks=[reduce_lr, early_stopping])"
      ],
      "metadata": {
        "colab": {
          "base_uri": "https://localhost:8080/"
        },
        "id": "iOxg0SqwtwCd",
        "outputId": "c3cd2576-4bcc-4e8c-ed35-08a636ecd112"
      },
      "execution_count": null,
      "outputs": [
        {
          "output_type": "stream",
          "name": "stdout",
          "text": [
            "Epoch 1/50\n",
            "591/591 [==============================] - 19s 28ms/step - loss: 0.3153 - accuracy: 0.9037 - val_loss: 0.1469 - val_accuracy: 0.9590 - lr: 0.0010\n",
            "Epoch 2/50\n",
            "591/591 [==============================] - 21s 35ms/step - loss: 0.1143 - accuracy: 0.9650 - val_loss: 0.0486 - val_accuracy: 0.9871 - lr: 0.0010\n",
            "Epoch 3/50\n",
            "591/591 [==============================] - 19s 31ms/step - loss: 0.0862 - accuracy: 0.9739 - val_loss: 0.0452 - val_accuracy: 0.9876 - lr: 0.0010\n",
            "Epoch 4/50\n",
            "591/591 [==============================] - 19s 32ms/step - loss: 0.0741 - accuracy: 0.9774 - val_loss: 0.0974 - val_accuracy: 0.9695 - lr: 0.0010\n",
            "Epoch 5/50\n",
            "591/591 [==============================] - 16s 27ms/step - loss: 0.0706 - accuracy: 0.9778 - val_loss: 0.0300 - val_accuracy: 0.9917 - lr: 0.0010\n",
            "Epoch 6/50\n",
            "591/591 [==============================] - 16s 27ms/step - loss: 0.0598 - accuracy: 0.9813 - val_loss: 0.0393 - val_accuracy: 0.9867 - lr: 0.0010\n",
            "Epoch 7/50\n",
            "589/591 [============================>.] - ETA: 0s - loss: 0.0574 - accuracy: 0.9823\n",
            "Epoch 7: ReduceLROnPlateau reducing learning rate to 0.00020000000949949026.\n",
            "591/591 [==============================] - 16s 28ms/step - loss: 0.0574 - accuracy: 0.9822 - val_loss: 0.0555 - val_accuracy: 0.9843 - lr: 0.0010\n",
            "Epoch 8/50\n",
            "591/591 [==============================] - 16s 27ms/step - loss: 0.0462 - accuracy: 0.9860 - val_loss: 0.0208 - val_accuracy: 0.9943 - lr: 2.0000e-04\n",
            "Epoch 9/50\n",
            "591/591 [==============================] - 19s 32ms/step - loss: 0.0433 - accuracy: 0.9869 - val_loss: 0.0217 - val_accuracy: 0.9938 - lr: 2.0000e-04\n",
            "Epoch 10/50\n",
            "591/591 [==============================] - 16s 27ms/step - loss: 0.0388 - accuracy: 0.9886 - val_loss: 0.0184 - val_accuracy: 0.9952 - lr: 2.0000e-04\n",
            "Epoch 11/50\n",
            "591/591 [==============================] - 16s 27ms/step - loss: 0.0364 - accuracy: 0.9890 - val_loss: 0.0206 - val_accuracy: 0.9933 - lr: 2.0000e-04\n",
            "Epoch 12/50\n",
            "591/591 [==============================] - 16s 27ms/step - loss: 0.0361 - accuracy: 0.9892 - val_loss: 0.0174 - val_accuracy: 0.9948 - lr: 2.0000e-04\n",
            "Epoch 13/50\n",
            "591/591 [==============================] - 16s 27ms/step - loss: 0.0344 - accuracy: 0.9894 - val_loss: 0.0185 - val_accuracy: 0.9938 - lr: 2.0000e-04\n",
            "Epoch 14/50\n",
            "589/591 [============================>.] - ETA: 0s - loss: 0.0338 - accuracy: 0.9900\n",
            "Epoch 14: ReduceLROnPlateau reducing learning rate to 4.0000001899898055e-05.\n",
            "591/591 [==============================] - 18s 30ms/step - loss: 0.0338 - accuracy: 0.9899 - val_loss: 0.0181 - val_accuracy: 0.9952 - lr: 2.0000e-04\n",
            "Epoch 15/50\n",
            "591/591 [==============================] - 16s 27ms/step - loss: 0.0324 - accuracy: 0.9899 - val_loss: 0.0176 - val_accuracy: 0.9945 - lr: 4.0000e-05\n",
            "Epoch 16/50\n",
            "591/591 [==============================] - 16s 27ms/step - loss: 0.0300 - accuracy: 0.9909 - val_loss: 0.0170 - val_accuracy: 0.9952 - lr: 4.0000e-05\n",
            "Epoch 17/50\n",
            "591/591 [==============================] - 16s 27ms/step - loss: 0.0312 - accuracy: 0.9905 - val_loss: 0.0167 - val_accuracy: 0.9952 - lr: 4.0000e-05\n",
            "Epoch 18/50\n",
            "591/591 [==============================] - 17s 29ms/step - loss: 0.0289 - accuracy: 0.9917 - val_loss: 0.0162 - val_accuracy: 0.9948 - lr: 4.0000e-05\n",
            "Epoch 19/50\n",
            "591/591 [==============================] - 16s 28ms/step - loss: 0.0306 - accuracy: 0.9908 - val_loss: 0.0160 - val_accuracy: 0.9950 - lr: 4.0000e-05\n",
            "Epoch 20/50\n",
            "591/591 [==============================] - 17s 28ms/step - loss: 0.0301 - accuracy: 0.9914 - val_loss: 0.0160 - val_accuracy: 0.9957 - lr: 4.0000e-05\n",
            "Epoch 21/50\n",
            "591/591 [==============================] - ETA: 0s - loss: 0.0292 - accuracy: 0.9914\n",
            "Epoch 21: ReduceLROnPlateau reducing learning rate to 8.000000525498762e-06.\n",
            "591/591 [==============================] - 16s 27ms/step - loss: 0.0292 - accuracy: 0.9914 - val_loss: 0.0159 - val_accuracy: 0.9955 - lr: 4.0000e-05\n",
            "Epoch 22/50\n",
            "591/591 [==============================] - 16s 27ms/step - loss: 0.0286 - accuracy: 0.9914 - val_loss: 0.0156 - val_accuracy: 0.9955 - lr: 8.0000e-06\n",
            "Epoch 23/50\n",
            "591/591 [==============================] - 16s 28ms/step - loss: 0.0278 - accuracy: 0.9913 - val_loss: 0.0156 - val_accuracy: 0.9955 - lr: 8.0000e-06\n",
            "Epoch 24/50\n",
            "591/591 [==============================] - ETA: 0s - loss: 0.0272 - accuracy: 0.9912\n",
            "Epoch 24: ReduceLROnPlateau reducing learning rate to 1.6000001778593287e-06.\n",
            "591/591 [==============================] - 16s 26ms/step - loss: 0.0272 - accuracy: 0.9912 - val_loss: 0.0156 - val_accuracy: 0.9952 - lr: 8.0000e-06\n",
            "Epoch 25/50\n",
            "591/591 [==============================] - 16s 27ms/step - loss: 0.0274 - accuracy: 0.9917 - val_loss: 0.0156 - val_accuracy: 0.9952 - lr: 1.6000e-06\n",
            "Epoch 26/50\n",
            "590/591 [============================>.] - ETA: 0s - loss: 0.0268 - accuracy: 0.9919\n",
            "Epoch 26: ReduceLROnPlateau reducing learning rate to 3.200000264769187e-07.\n",
            "591/591 [==============================] - 16s 27ms/step - loss: 0.0268 - accuracy: 0.9919 - val_loss: 0.0157 - val_accuracy: 0.9952 - lr: 1.6000e-06\n",
            "Epoch 27/50\n",
            "591/591 [==============================] - 16s 27ms/step - loss: 0.0286 - accuracy: 0.9916 - val_loss: 0.0156 - val_accuracy: 0.9952 - lr: 3.2000e-07\n",
            "Epoch 28/50\n",
            "591/591 [==============================] - ETA: 0s - loss: 0.0287 - accuracy: 0.9912\n",
            "Epoch 28: ReduceLROnPlateau reducing learning rate to 1e-07.\n",
            "591/591 [==============================] - 18s 30ms/step - loss: 0.0287 - accuracy: 0.9912 - val_loss: 0.0156 - val_accuracy: 0.9952 - lr: 3.2000e-07\n"
          ]
        }
      ]
    },
    {
      "cell_type": "markdown",
      "source": [
        "#### 5.3.3 Plot loss curves"
      ],
      "metadata": {
        "id": "236-ZXG39VMl"
      }
    },
    {
      "cell_type": "code",
      "source": [
        "plot_loss_curves(history_2)"
      ],
      "metadata": {
        "id": "l11sjrsx9YM6",
        "colab": {
          "base_uri": "https://localhost:8080/",
          "height": 927
        },
        "outputId": "3ac23175-c014-47b3-d537-f74386923b18"
      },
      "execution_count": null,
      "outputs": [
        {
          "output_type": "display_data",
          "data": {
            "text/plain": [
              "<Figure size 640x480 with 1 Axes>"
            ],
            "image/png": "[encoded data removed]"
          },
          "metadata": {}
        },
        {
          "output_type": "display_data",
          "data": {
            "text/plain": [
              "<Figure size 640x480 with 1 Axes>"
            ],
            "image/png": "[encoded data removed]"
          },
          "metadata": {}
        }
      ]
    },
    {
      "cell_type": "markdown",
      "source": [
        "### 5.4 Tweak the Larger CNN Model"
      ],
      "metadata": {
        "id": "QK6rkUjg0hTy"
      }
    },
    {
      "cell_type": "markdown",
      "source": [
        "#### 5.4.1 Build the Model"
      ],
      "metadata": {
        "id": "48x9VwmR0qpd"
      }
    },
    {
      "cell_type": "code",
      "source": [
        "import tensorflow as tf\n",
        "from tensorflow.keras import Sequential, layers\n",
        "\n",
        "tf.random.set_seed(42)\n",
        "\n",
        "# create\n",
        "model_3 = Sequential([\n",
        "    layers.Conv2D(32, 3, padding='same', activation='relu', input_shape=(28,28,1)),\n",
        "    layers.Conv2D(32, 3, padding='same', activation='relu', input_shape=(28,28,1)),\n",
        "    layers.MaxPooling2D(),\n",
        "    layers.Dropout(0.2),\n",
        "    layers.BatchNormalization(),\n",
        "\n",
        "    layers.Conv2D(64, 3, padding='same', activation='relu', input_shape=(28,28,1)),\n",
        "    layers.MaxPooling2D(),\n",
        "    layers.Dropout(0.2),\n",
        "    layers.BatchNormalization(),\n",
        "\n",
        "    layers.Conv2D(128, 3, padding='same', activation='relu', input_shape=(28,28,1)),\n",
        "    layers.MaxPooling2D(),\n",
        "    layers.Dropout(0.2),\n",
        "    layers.BatchNormalization(),\n",
        "\n",
        "    layers.Flatten(),\n",
        "\n",
        "    layers.Dense(128, activation='relu'),\n",
        "    layers.Dropout(0.2),\n",
        "    layers.BatchNormalization(),\n",
        "\n",
        "\n",
        "    layers.Dense(10, activation='softmax')\n",
        "])\n",
        "\n",
        "# compile\n",
        "model_3.compile(optimizer=tf.keras.optimizers.Adam(),\n",
        "                loss=tf.keras.losses.CategoricalCrossentropy(),\n",
        "                metrics=['accuracy'])\n",
        "\n",
        "# get summary\n",
        "model_3.summary()"
      ],
      "metadata": {
        "colab": {
          "base_uri": "https://localhost:8080/"
        },
        "id": "8nhRZQ1h0mjm",
        "outputId": "6e9705a9-9033-4dd9-e402-86f849c42ebb"
      },
      "execution_count": null,
      "outputs": [
        {
          "output_type": "stream",
          "name": "stdout",
          "text": [
            "Model: \"sequential_22\"\n",
            "_________________________________________________________________\n",
            " Layer (type)                Output Shape              Param #   \n",
            "=================================================================\n",
            " conv2d_52 (Conv2D)          (None, 28, 28, 32)        320       \n",
            "                                                                 \n",
            " conv2d_53 (Conv2D)          (None, 28, 28, 32)        9248      \n",
            "                                                                 \n",
            " max_pooling2d_40 (MaxPooli  (None, 14, 14, 32)        0         \n",
            " ng2D)                                                           \n",
            "                                                                 \n",
            " dropout_50 (Dropout)        (None, 14, 14, 32)        0         \n",
            "                                                                 \n",
            " batch_normalization_50 (Ba  (None, 14, 14, 32)        128       \n",
            " tchNormalization)                                               \n",
            "                                                                 \n",
            " conv2d_54 (Conv2D)          (None, 14, 14, 64)        18496     \n",
            "                                                                 \n",
            " max_pooling2d_41 (MaxPooli  (None, 7, 7, 64)          0         \n",
            " ng2D)                                                           \n",
            "                                                                 \n",
            " dropout_51 (Dropout)        (None, 7, 7, 64)          0         \n",
            "                                                                 \n",
            " batch_normalization_51 (Ba  (None, 7, 7, 64)          256       \n",
            " tchNormalization)                                               \n",
            "                                                                 \n",
            " conv2d_55 (Conv2D)          (None, 7, 7, 128)         73856     \n",
            "                                                                 \n",
            " max_pooling2d_42 (MaxPooli  (None, 3, 3, 128)         0         \n",
            " ng2D)                                                           \n",
            "                                                                 \n",
            " dropout_52 (Dropout)        (None, 3, 3, 128)         0         \n",
            "                                                                 \n",
            " batch_normalization_52 (Ba  (None, 3, 3, 128)         512       \n",
            " tchNormalization)                                               \n",
            "                                                                 \n",
            " flatten_18 (Flatten)        (None, 1152)              0         \n",
            "                                                                 \n",
            " dense_44 (Dense)            (None, 128)               147584    \n",
            "                                                                 \n",
            " dropout_53 (Dropout)        (None, 128)               0         \n",
            "                                                                 \n",
            " batch_normalization_53 (Ba  (None, 128)               512       \n",
            " tchNormalization)                                               \n",
            "                                                                 \n",
            " dense_45 (Dense)            (None, 10)                1290      \n",
            "                                                                 \n",
            "=================================================================\n",
            "Total params: 252202 (985.16 KB)\n",
            "Trainable params: 251498 (982.41 KB)\n",
            "Non-trainable params: 704 (2.75 KB)\n",
            "_________________________________________________________________\n"
          ]
        }
      ]
    },
    {
      "cell_type": "markdown",
      "source": [
        "#### 5.4.2 Fit the Model"
      ],
      "metadata": {
        "id": "4V1QOxUL0v9p"
      }
    },
    {
      "cell_type": "code",
      "source": [
        "history_3 = model_3.fit(train_data,\n",
        "                  epochs=50,\n",
        "                  steps_per_epoch=len(train_data),\n",
        "                  validation_data=val_data,\n",
        "                  validation_steps=len(val_data),\n",
        "                  callbacks=[reduce_lr, early_stopping])"
      ],
      "metadata": {
        "colab": {
          "base_uri": "https://localhost:8080/"
        },
        "id": "kKaV_mem0yGu",
        "outputId": "1595dd8c-09d4-4a32-95eb-6a50e57f3cd0"
      },
      "execution_count": null,
      "outputs": [
        {
          "output_type": "stream",
          "name": "stdout",
          "text": [
            "Epoch 1/50\n",
            "591/591 [==============================] - 23s 32ms/step - loss: 0.3500 - accuracy: 0.8899 - val_loss: 0.1420 - val_accuracy: 0.9569 - lr: 0.0010\n",
            "Epoch 2/50\n",
            "591/591 [==============================] - 16s 28ms/step - loss: 0.1125 - accuracy: 0.9657 - val_loss: 0.0567 - val_accuracy: 0.9800 - lr: 0.0010\n",
            "Epoch 3/50\n",
            "591/591 [==============================] - 17s 29ms/step - loss: 0.0809 - accuracy: 0.9747 - val_loss: 0.1049 - val_accuracy: 0.9669 - lr: 0.0010\n",
            "Epoch 4/50\n",
            "591/591 [==============================] - 16s 27ms/step - loss: 0.0742 - accuracy: 0.9767 - val_loss: 0.0341 - val_accuracy: 0.9888 - lr: 0.0010\n",
            "Epoch 5/50\n",
            "591/591 [==============================] - 17s 29ms/step - loss: 0.0613 - accuracy: 0.9817 - val_loss: 0.0249 - val_accuracy: 0.9926 - lr: 0.0010\n",
            "Epoch 6/50\n",
            "591/591 [==============================] - 16s 27ms/step - loss: 0.0571 - accuracy: 0.9821 - val_loss: 0.0257 - val_accuracy: 0.9926 - lr: 0.0010\n",
            "Epoch 7/50\n",
            "590/591 [============================>.] - ETA: 0s - loss: 0.0540 - accuracy: 0.9834\n",
            "Epoch 7: ReduceLROnPlateau reducing learning rate to 0.00020000000949949026.\n",
            "591/591 [==============================] - 17s 28ms/step - loss: 0.0540 - accuracy: 0.9834 - val_loss: 0.0281 - val_accuracy: 0.9919 - lr: 0.0010\n",
            "Epoch 8/50\n",
            "591/591 [==============================] - 16s 27ms/step - loss: 0.0401 - accuracy: 0.9876 - val_loss: 0.0191 - val_accuracy: 0.9938 - lr: 2.0000e-04\n",
            "Epoch 9/50\n",
            "591/591 [==============================] - 16s 28ms/step - loss: 0.0363 - accuracy: 0.9891 - val_loss: 0.0158 - val_accuracy: 0.9940 - lr: 2.0000e-04\n",
            "Epoch 10/50\n",
            "591/591 [==============================] - 17s 29ms/step - loss: 0.0328 - accuracy: 0.9901 - val_loss: 0.0155 - val_accuracy: 0.9948 - lr: 2.0000e-04\n",
            "Epoch 11/50\n",
            "591/591 [==============================] - 16s 27ms/step - loss: 0.0323 - accuracy: 0.9902 - val_loss: 0.0163 - val_accuracy: 0.9945 - lr: 2.0000e-04\n",
            "Epoch 12/50\n",
            "589/591 [============================>.] - ETA: 0s - loss: 0.0308 - accuracy: 0.9906\n",
            "Epoch 12: ReduceLROnPlateau reducing learning rate to 4.0000001899898055e-05.\n",
            "591/591 [==============================] - 17s 29ms/step - loss: 0.0307 - accuracy: 0.9906 - val_loss: 0.0169 - val_accuracy: 0.9948 - lr: 2.0000e-04\n",
            "Epoch 13/50\n",
            "591/591 [==============================] - 18s 30ms/step - loss: 0.0298 - accuracy: 0.9908 - val_loss: 0.0144 - val_accuracy: 0.9952 - lr: 4.0000e-05\n",
            "Epoch 14/50\n",
            "591/591 [==============================] - 16s 27ms/step - loss: 0.0276 - accuracy: 0.9916 - val_loss: 0.0148 - val_accuracy: 0.9952 - lr: 4.0000e-05\n",
            "Epoch 15/50\n",
            "591/591 [==============================] - 17s 29ms/step - loss: 0.0270 - accuracy: 0.9913 - val_loss: 0.0141 - val_accuracy: 0.9952 - lr: 4.0000e-05\n",
            "Epoch 16/50\n",
            "591/591 [==============================] - 16s 27ms/step - loss: 0.0262 - accuracy: 0.9922 - val_loss: 0.0141 - val_accuracy: 0.9955 - lr: 4.0000e-05\n",
            "Epoch 17/50\n",
            "591/591 [==============================] - 16s 27ms/step - loss: 0.0274 - accuracy: 0.9916 - val_loss: 0.0138 - val_accuracy: 0.9955 - lr: 4.0000e-05\n",
            "Epoch 18/50\n",
            "591/591 [==============================] - 17s 28ms/step - loss: 0.0258 - accuracy: 0.9917 - val_loss: 0.0137 - val_accuracy: 0.9952 - lr: 4.0000e-05\n",
            "Epoch 19/50\n",
            "591/591 [==============================] - 16s 27ms/step - loss: 0.0273 - accuracy: 0.9918 - val_loss: 0.0136 - val_accuracy: 0.9955 - lr: 4.0000e-05\n",
            "Epoch 20/50\n",
            "591/591 [==============================] - 16s 28ms/step - loss: 0.0267 - accuracy: 0.9917 - val_loss: 0.0133 - val_accuracy: 0.9957 - lr: 4.0000e-05\n",
            "Epoch 21/50\n",
            "591/591 [==============================] - 17s 29ms/step - loss: 0.0263 - accuracy: 0.9917 - val_loss: 0.0136 - val_accuracy: 0.9955 - lr: 4.0000e-05\n",
            "Epoch 22/50\n",
            "591/591 [==============================] - ETA: 0s - loss: 0.0257 - accuracy: 0.9918\n",
            "Epoch 22: ReduceLROnPlateau reducing learning rate to 8.000000525498762e-06.\n",
            "591/591 [==============================] - 16s 28ms/step - loss: 0.0257 - accuracy: 0.9918 - val_loss: 0.0140 - val_accuracy: 0.9952 - lr: 4.0000e-05\n",
            "Epoch 23/50\n",
            "591/591 [==============================] - 16s 27ms/step - loss: 0.0258 - accuracy: 0.9921 - val_loss: 0.0139 - val_accuracy: 0.9952 - lr: 8.0000e-06\n",
            "Epoch 24/50\n",
            "591/591 [==============================] - ETA: 0s - loss: 0.0258 - accuracy: 0.9923\n",
            "Epoch 24: ReduceLROnPlateau reducing learning rate to 1.6000001778593287e-06.\n",
            "591/591 [==============================] - 17s 28ms/step - loss: 0.0258 - accuracy: 0.9923 - val_loss: 0.0137 - val_accuracy: 0.9955 - lr: 8.0000e-06\n"
          ]
        }
      ]
    },
    {
      "cell_type": "markdown",
      "source": [
        "#### 5.4.3 Plot Loss Curves"
      ],
      "metadata": {
        "id": "eMJEPu5v8rY8"
      }
    },
    {
      "cell_type": "code",
      "source": [
        "plot_loss_curves(history_3)"
      ],
      "metadata": {
        "colab": {
          "base_uri": "https://localhost:8080/",
          "height": 927
        },
        "id": "aRKP0_aE8qrg",
        "outputId": "1197760a-f365-4c46-ee1e-ac178d8793b8"
      },
      "execution_count": null,
      "outputs": [
        {
          "output_type": "display_data",
          "data": {
            "text/plain": [
              "<Figure size 640x480 with 1 Axes>"
            ],
            "image/png": "[encoded data removed]"
          },
          "metadata": {}
        },
        {
          "output_type": "display_data",
          "data": {
            "text/plain": [
              "<Figure size 640x480 with 1 Axes>"
            ],
            "image/png": "[encoded data removed]"
          },
          "metadata": {}
        }
      ]
    },
    {
      "cell_type": "markdown",
      "source": [
        "## 6. Generate results"
      ],
      "metadata": {
        "id": "lSDzG7dx9-jY"
      }
    },
    {
      "cell_type": "code",
      "source": [
        "results = model_3.predict(X_test)\n",
        "results"
      ],
      "metadata": {
        "id": "yyRnIq4899wN",
        "colab": {
          "base_uri": "https://localhost:8080/"
        },
        "outputId": "ba91eb32-474a-4f90-f7be-b1a855824fa0"
      },
      "execution_count": null,
      "outputs": [
        {
          "output_type": "stream",
          "name": "stdout",
          "text": [
            "875/875 [==============================] - 2s 2ms/step\n"
          ]
        },
        {
          "output_type": "execute_result",
          "data": {
            "text/plain": [
              "array([[7.8847364e-09, 6.6276662e-10, 9.9999952e-01, ..., 6.4392665e-08,\n",
              "        6.7159571e-09, 5.9396901e-09],\n",
              "       [9.9998820e-01, 4.3731117e-08, 2.5153893e-06, ..., 6.2298210e-07,\n",
              "        2.1907897e-06, 3.8387820e-06],\n",
              "       [4.6984031e-08, 1.4667645e-08, 7.4361651e-07, ..., 4.0215156e-07,\n",
              "        4.8291878e-07, 9.9999499e-01],\n",
              "       ...,\n",
              "       [1.2452051e-13, 4.7300991e-10, 5.1769432e-11, ..., 4.9709437e-10,\n",
              "        1.8693387e-09, 4.5847246e-11],\n",
              "       [1.1152649e-06, 5.7201413e-07, 6.0276994e-07, ..., 3.5988633e-06,\n",
              "        4.7806657e-07, 9.9996138e-01],\n",
              "       [8.0219209e-10, 5.6611580e-11, 9.9999917e-01, ..., 9.2331263e-09,\n",
              "        2.0631069e-07, 2.5142548e-09]], dtype=float32)"
            ]
          },
          "metadata": {},
          "execution_count": 194
        }
      ]
    },
    {
      "cell_type": "code",
      "source": [
        "results = np.argmax(results, axis=1)\n",
        "results"
      ],
      "metadata": {
        "id": "TNnvTrz4-TAk",
        "colab": {
          "base_uri": "https://localhost:8080/"
        },
        "outputId": "66944464-955d-4880-9f40-846eafec3722"
      },
      "execution_count": null,
      "outputs": [
        {
          "output_type": "execute_result",
          "data": {
            "text/plain": [
              "array([2, 0, 9, ..., 3, 9, 2])"
            ]
          },
          "metadata": {},
          "execution_count": 195
        }
      ]
    },
    {
      "cell_type": "code",
      "source": [
        "submission = pd.DataFrame({\"ImageId\": range(1, 28001), \"Label\": results})\n",
        "submission.to_csv('digit_recognizer.csv', index=False)"
      ],
      "metadata": {
        "id": "9OYkLsmn-hZw"
      },
      "execution_count": null,
      "outputs": []
    }
  ]
}