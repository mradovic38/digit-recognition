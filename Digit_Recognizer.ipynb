{
  "nbformat": 4,
  "nbformat_minor": 0,
  "metadata": {
    "colab": {
      "provenance": [],
      "gpuType": "T4",
      "collapsed_sections": [
        "wWF7-q8hnaxM",
        "eMJEPu5v8rY8"
      ]
    },
    "kernelspec": {
      "name": "python3",
      "display_name": "Python 3"
    },
    "language_info": {
      "name": "python"
    },
    "accelerator": "GPU"
  },
  "cells": [
    {
      "cell_type": "markdown",
      "source": [
        "## 1. Downloading and Reading data"
      ],
      "metadata": {
        "id": "zhs0zZpO3OJY"
      }
    },
    {
      "cell_type": "markdown",
      "source": [
        "### 1.1 Download from Drive and unzip"
      ],
      "metadata": {
        "id": "7qMJZuLOY7Bz"
      }
    },
    {
      "cell_type": "code",
      "source": [
        "!mkdir digit-recognizer\n",
        "!unzip drive/MyDrive/digit-recognizer.zip -d digit-recognizer"
      ],
      "metadata": {
        "colab": {
          "base_uri": "https://localhost:8080/"
        },
        "id": "olEJN4Rb3Tar",
        "outputId": "d7630f2b-dda4-4bc2-dd0c-11f91de168a4"
      },
      "execution_count": null,
      "outputs": [
        {
          "output_type": "stream",
          "name": "stdout",
          "text": [
            "mkdir: cannot create directory ‘digit-recognizer’: File exists\n",
            "Archive:  drive/MyDrive/digit-recognizer.zip\n",
            "replace digit-recognizer/sample_submission.csv? [y]es, [n]o, [A]ll, [N]one, [r]ename: "
          ]
        }
      ]
    },
    {
      "cell_type": "markdown",
      "source": [
        "### 1.2 Read train and test dataframes"
      ],
      "metadata": {
        "id": "cYpVno_xZK0_"
      }
    },
    {
      "cell_type": "code",
      "source": [
        "import pandas as pd\n",
        "\n",
        "train_df = pd.read_csv('digit-recognizer/train.csv')\n",
        "\n",
        "train_df[:5]"
      ],
      "metadata": {
        "colab": {
          "base_uri": "https://localhost:8080/",
          "height": 255
        },
        "id": "JT7mX0fh3N7U",
        "outputId": "505ac62b-ff56-4b37-da84-c8c45df0aea3"
      },
      "execution_count": null,
      "outputs": [
        {
          "output_type": "execute_result",
          "data": {
            "text/plain": [
              "   label  pixel0  pixel1  pixel2  pixel3  pixel4  pixel5  pixel6  pixel7  \\\n",
              "0      1       0       0       0       0       0       0       0       0   \n",
              "1      0       0       0       0       0       0       0       0       0   \n",
              "2      1       0       0       0       0       0       0       0       0   \n",
              "3      4       0       0       0       0       0       0       0       0   \n",
              "4      0       0       0       0       0       0       0       0       0   \n",
              "\n",
              "   pixel8  ...  pixel774  pixel775  pixel776  pixel777  pixel778  pixel779  \\\n",
              "0       0  ...         0         0         0         0         0         0   \n",
              "1       0  ...         0         0         0         0         0         0   \n",
              "2       0  ...         0         0         0         0         0         0   \n",
              "3       0  ...         0         0         0         0         0         0   \n",
              "4       0  ...         0         0         0         0         0         0   \n",
              "\n",
              "   pixel780  pixel781  pixel782  pixel783  \n",
              "0         0         0         0         0  \n",
              "1         0         0         0         0  \n",
              "2         0         0         0         0  \n",
              "3         0         0         0         0  \n",
              "4         0         0         0         0  \n",
              "\n",
              "[5 rows x 785 columns]"
            ],
            "text/html": [
              "\n",
              "  <div id=\"df-ecebfcbc-7c81-43da-b2f2-6f0f8553d3bd\" class=\"colab-df-container\">\n",
              "    <div>\n",
              "<style scoped>\n",
              "    .dataframe tbody tr th:only-of-type {\n",
              "        vertical-align: middle;\n",
              "    }\n",
              "\n",
              "    .dataframe tbody tr th {\n",
              "        vertical-align: top;\n",
              "    }\n",
              "\n",
              "    .dataframe thead th {\n",
              "        text-align: right;\n",
              "    }\n",
              "</style>\n",
              "<table border=\"1\" class=\"dataframe\">\n",
              "  <thead>\n",
              "    <tr style=\"text-align: right;\">\n",
              "      <th></th>\n",
              "      <th>label</th>\n",
              "      <th>pixel0</th>\n",
              "      <th>pixel1</th>\n",
              "      <th>pixel2</th>\n",
              "      <th>pixel3</th>\n",
              "      <th>pixel4</th>\n",
              "      <th>pixel5</th>\n",
              "      <th>pixel6</th>\n",
              "      <th>pixel7</th>\n",
              "      <th>pixel8</th>\n",
              "      <th>...</th>\n",
              "      <th>pixel774</th>\n",
              "      <th>pixel775</th>\n",
              "      <th>pixel776</th>\n",
              "      <th>pixel777</th>\n",
              "      <th>pixel778</th>\n",
              "      <th>pixel779</th>\n",
              "      <th>pixel780</th>\n",
              "      <th>pixel781</th>\n",
              "      <th>pixel782</th>\n",
              "      <th>pixel783</th>\n",
              "    </tr>\n",
              "  </thead>\n",
              "  <tbody>\n",
              "    <tr>\n",
              "      <th>0</th>\n",
              "      <td>1</td>\n",
              "      <td>0</td>\n",
              "      <td>0</td>\n",
              "      <td>0</td>\n",
              "      <td>0</td>\n",
              "      <td>0</td>\n",
              "      <td>0</td>\n",
              "      <td>0</td>\n",
              "      <td>0</td>\n",
              "      <td>0</td>\n",
              "      <td>...</td>\n",
              "      <td>0</td>\n",
              "      <td>0</td>\n",
              "      <td>0</td>\n",
              "      <td>0</td>\n",
              "      <td>0</td>\n",
              "      <td>0</td>\n",
              "      <td>0</td>\n",
              "      <td>0</td>\n",
              "      <td>0</td>\n",
              "      <td>0</td>\n",
              "    </tr>\n",
              "    <tr>\n",
              "      <th>1</th>\n",
              "      <td>0</td>\n",
              "      <td>0</td>\n",
              "      <td>0</td>\n",
              "      <td>0</td>\n",
              "      <td>0</td>\n",
              "      <td>0</td>\n",
              "      <td>0</td>\n",
              "      <td>0</td>\n",
              "      <td>0</td>\n",
              "      <td>0</td>\n",
              "      <td>...</td>\n",
              "      <td>0</td>\n",
              "      <td>0</td>\n",
              "      <td>0</td>\n",
              "      <td>0</td>\n",
              "      <td>0</td>\n",
              "      <td>0</td>\n",
              "      <td>0</td>\n",
              "      <td>0</td>\n",
              "      <td>0</td>\n",
              "      <td>0</td>\n",
              "    </tr>\n",
              "    <tr>\n",
              "      <th>2</th>\n",
              "      <td>1</td>\n",
              "      <td>0</td>\n",
              "      <td>0</td>\n",
              "      <td>0</td>\n",
              "      <td>0</td>\n",
              "      <td>0</td>\n",
              "      <td>0</td>\n",
              "      <td>0</td>\n",
              "      <td>0</td>\n",
              "      <td>0</td>\n",
              "      <td>...</td>\n",
              "      <td>0</td>\n",
              "      <td>0</td>\n",
              "      <td>0</td>\n",
              "      <td>0</td>\n",
              "      <td>0</td>\n",
              "      <td>0</td>\n",
              "      <td>0</td>\n",
              "      <td>0</td>\n",
              "      <td>0</td>\n",
              "      <td>0</td>\n",
              "    </tr>\n",
              "    <tr>\n",
              "      <th>3</th>\n",
              "      <td>4</td>\n",
              "      <td>0</td>\n",
              "      <td>0</td>\n",
              "      <td>0</td>\n",
              "      <td>0</td>\n",
              "      <td>0</td>\n",
              "      <td>0</td>\n",
              "      <td>0</td>\n",
              "      <td>0</td>\n",
              "      <td>0</td>\n",
              "      <td>...</td>\n",
              "      <td>0</td>\n",
              "      <td>0</td>\n",
              "      <td>0</td>\n",
              "      <td>0</td>\n",
              "      <td>0</td>\n",
              "      <td>0</td>\n",
              "      <td>0</td>\n",
              "      <td>0</td>\n",
              "      <td>0</td>\n",
              "      <td>0</td>\n",
              "    </tr>\n",
              "    <tr>\n",
              "      <th>4</th>\n",
              "      <td>0</td>\n",
              "      <td>0</td>\n",
              "      <td>0</td>\n",
              "      <td>0</td>\n",
              "      <td>0</td>\n",
              "      <td>0</td>\n",
              "      <td>0</td>\n",
              "      <td>0</td>\n",
              "      <td>0</td>\n",
              "      <td>0</td>\n",
              "      <td>...</td>\n",
              "      <td>0</td>\n",
              "      <td>0</td>\n",
              "      <td>0</td>\n",
              "      <td>0</td>\n",
              "      <td>0</td>\n",
              "      <td>0</td>\n",
              "      <td>0</td>\n",
              "      <td>0</td>\n",
              "      <td>0</td>\n",
              "      <td>0</td>\n",
              "    </tr>\n",
              "  </tbody>\n",
              "</table>\n",
              "<p>5 rows × 785 columns</p>\n",
              "</div>\n",
              "    <div class=\"colab-df-buttons\">\n",
              "\n",
              "  <div class=\"colab-df-container\">\n",
              "    <button class=\"colab-df-convert\" onclick=\"convertToInteractive('df-ecebfcbc-7c81-43da-b2f2-6f0f8553d3bd')\"\n",
              "            title=\"Convert this dataframe to an interactive table.\"\n",
              "            style=\"display:none;\">\n",
              "\n",
              "  <svg xmlns=\"http://www.w3.org/2000/svg\" height=\"24px\" viewBox=\"0 -960 960 960\">\n",
              "    <path d=\"M120-120v-720h720v720H120Zm60-500h600v-160H180v160Zm220 220h160v-160H400v160Zm0 220h160v-160H400v160ZM180-400h160v-160H180v160Zm440 0h160v-160H620v160ZM180-180h160v-160H180v160Zm440 0h160v-160H620v160Z\"/>\n",
              "  </svg>\n",
              "    </button>\n",
              "\n",
              "  <style>\n",
              "    .colab-df-container {\n",
              "      display:flex;\n",
              "      gap: 12px;\n",
              "    }\n",
              "\n",
              "    .colab-df-convert {\n",
              "      background-color: #E8F0FE;\n",
              "      border: none;\n",
              "      border-radius: 50%;\n",
              "      cursor: pointer;\n",
              "      display: none;\n",
              "      fill: #1967D2;\n",
              "      height: 32px;\n",
              "      padding: 0 0 0 0;\n",
              "      width: 32px;\n",
              "    }\n",
              "\n",
              "    .colab-df-convert:hover {\n",
              "      background-color: #E2EBFA;\n",
              "      box-shadow: 0px 1px 2px rgba(60, 64, 67, 0.3), 0px 1px 3px 1px rgba(60, 64, 67, 0.15);\n",
              "      fill: #174EA6;\n",
              "    }\n",
              "\n",
              "    .colab-df-buttons div {\n",
              "      margin-bottom: 4px;\n",
              "    }\n",
              "\n",
              "    [theme=dark] .colab-df-convert {\n",
              "      background-color: #3B4455;\n",
              "      fill: #D2E3FC;\n",
              "    }\n",
              "\n",
              "    [theme=dark] .colab-df-convert:hover {\n",
              "      background-color: #434B5C;\n",
              "      box-shadow: 0px 1px 3px 1px rgba(0, 0, 0, 0.15);\n",
              "      filter: drop-shadow(0px 1px 2px rgba(0, 0, 0, 0.3));\n",
              "      fill: #FFFFFF;\n",
              "    }\n",
              "  </style>\n",
              "\n",
              "    <script>\n",
              "      const buttonEl =\n",
              "        document.querySelector('#df-ecebfcbc-7c81-43da-b2f2-6f0f8553d3bd button.colab-df-convert');\n",
              "      buttonEl.style.display =\n",
              "        google.colab.kernel.accessAllowed ? 'block' : 'none';\n",
              "\n",
              "      async function convertToInteractive(key) {\n",
              "        const element = document.querySelector('#df-ecebfcbc-7c81-43da-b2f2-6f0f8553d3bd');\n",
              "        const dataTable =\n",
              "          await google.colab.kernel.invokeFunction('convertToInteractive',\n",
              "                                                    [key], {});\n",
              "        if (!dataTable) return;\n",
              "\n",
              "        const docLinkHtml = 'Like what you see? Visit the ' +\n",
              "          '<a target=\"_blank\" href=https://colab.research.google.com/notebooks/data_table.ipynb>data table notebook</a>'\n",
              "          + ' to learn more about interactive tables.';\n",
              "        element.innerHTML = '';\n",
              "        dataTable['output_type'] = 'display_data';\n",
              "        await google.colab.output.renderOutput(dataTable, element);\n",
              "        const docLink = document.createElement('div');\n",
              "        docLink.innerHTML = docLinkHtml;\n",
              "        element.appendChild(docLink);\n",
              "      }\n",
              "    </script>\n",
              "  </div>\n",
              "\n",
              "\n",
              "<div id=\"df-893ac7e3-24f0-4f75-afff-016a4329c243\">\n",
              "  <button class=\"colab-df-quickchart\" onclick=\"quickchart('df-893ac7e3-24f0-4f75-afff-016a4329c243')\"\n",
              "            title=\"Suggest charts.\"\n",
              "            style=\"display:none;\">\n",
              "\n",
              "<svg xmlns=\"http://www.w3.org/2000/svg\" height=\"24px\"viewBox=\"0 0 24 24\"\n",
              "     width=\"24px\">\n",
              "    <g>\n",
              "        <path d=\"M19 3H5c-1.1 0-2 .9-2 2v14c0 1.1.9 2 2 2h14c1.1 0 2-.9 2-2V5c0-1.1-.9-2-2-2zM9 17H7v-7h2v7zm4 0h-2V7h2v10zm4 0h-2v-4h2v4z\"/>\n",
              "    </g>\n",
              "</svg>\n",
              "  </button>\n",
              "\n",
              "<style>\n",
              "  .colab-df-quickchart {\n",
              "      --bg-color: #E8F0FE;\n",
              "      --fill-color: #1967D2;\n",
              "      --hover-bg-color: #E2EBFA;\n",
              "      --hover-fill-color: #174EA6;\n",
              "      --disabled-fill-color: #AAA;\n",
              "      --disabled-bg-color: #DDD;\n",
              "  }\n",
              "\n",
              "  [theme=dark] .colab-df-quickchart {\n",
              "      --bg-color: #3B4455;\n",
              "      --fill-color: #D2E3FC;\n",
              "      --hover-bg-color: #434B5C;\n",
              "      --hover-fill-color: #FFFFFF;\n",
              "      --disabled-bg-color: #3B4455;\n",
              "      --disabled-fill-color: #666;\n",
              "  }\n",
              "\n",
              "  .colab-df-quickchart {\n",
              "    background-color: var(--bg-color);\n",
              "    border: none;\n",
              "    border-radius: 50%;\n",
              "    cursor: pointer;\n",
              "    display: none;\n",
              "    fill: var(--fill-color);\n",
              "    height: 32px;\n",
              "    padding: 0;\n",
              "    width: 32px;\n",
              "  }\n",
              "\n",
              "  .colab-df-quickchart:hover {\n",
              "    background-color: var(--hover-bg-color);\n",
              "    box-shadow: 0 1px 2px rgba(60, 64, 67, 0.3), 0 1px 3px 1px rgba(60, 64, 67, 0.15);\n",
              "    fill: var(--button-hover-fill-color);\n",
              "  }\n",
              "\n",
              "  .colab-df-quickchart-complete:disabled,\n",
              "  .colab-df-quickchart-complete:disabled:hover {\n",
              "    background-color: var(--disabled-bg-color);\n",
              "    fill: var(--disabled-fill-color);\n",
              "    box-shadow: none;\n",
              "  }\n",
              "\n",
              "  .colab-df-spinner {\n",
              "    border: 2px solid var(--fill-color);\n",
              "    border-color: transparent;\n",
              "    border-bottom-color: var(--fill-color);\n",
              "    animation:\n",
              "      spin 1s steps(1) infinite;\n",
              "  }\n",
              "\n",
              "  @keyframes spin {\n",
              "    0% {\n",
              "      border-color: transparent;\n",
              "      border-bottom-color: var(--fill-color);\n",
              "      border-left-color: var(--fill-color);\n",
              "    }\n",
              "    20% {\n",
              "      border-color: transparent;\n",
              "      border-left-color: var(--fill-color);\n",
              "      border-top-color: var(--fill-color);\n",
              "    }\n",
              "    30% {\n",
              "      border-color: transparent;\n",
              "      border-left-color: var(--fill-color);\n",
              "      border-top-color: var(--fill-color);\n",
              "      border-right-color: var(--fill-color);\n",
              "    }\n",
              "    40% {\n",
              "      border-color: transparent;\n",
              "      border-right-color: var(--fill-color);\n",
              "      border-top-color: var(--fill-color);\n",
              "    }\n",
              "    60% {\n",
              "      border-color: transparent;\n",
              "      border-right-color: var(--fill-color);\n",
              "    }\n",
              "    80% {\n",
              "      border-color: transparent;\n",
              "      border-right-color: var(--fill-color);\n",
              "      border-bottom-color: var(--fill-color);\n",
              "    }\n",
              "    90% {\n",
              "      border-color: transparent;\n",
              "      border-bottom-color: var(--fill-color);\n",
              "    }\n",
              "  }\n",
              "</style>\n",
              "\n",
              "  <script>\n",
              "    async function quickchart(key) {\n",
              "      const quickchartButtonEl =\n",
              "        document.querySelector('#' + key + ' button');\n",
              "      quickchartButtonEl.disabled = true;  // To prevent multiple clicks.\n",
              "      quickchartButtonEl.classList.add('colab-df-spinner');\n",
              "      try {\n",
              "        const charts = await google.colab.kernel.invokeFunction(\n",
              "            'suggestCharts', [key], {});\n",
              "      } catch (error) {\n",
              "        console.error('Error during call to suggestCharts:', error);\n",
              "      }\n",
              "      quickchartButtonEl.classList.remove('colab-df-spinner');\n",
              "      quickchartButtonEl.classList.add('colab-df-quickchart-complete');\n",
              "    }\n",
              "    (() => {\n",
              "      let quickchartButtonEl =\n",
              "        document.querySelector('#df-893ac7e3-24f0-4f75-afff-016a4329c243 button');\n",
              "      quickchartButtonEl.style.display =\n",
              "        google.colab.kernel.accessAllowed ? 'block' : 'none';\n",
              "    })();\n",
              "  </script>\n",
              "</div>\n",
              "    </div>\n",
              "  </div>\n"
            ]
          },
          "metadata": {},
          "execution_count": 40
        }
      ]
    },
    {
      "cell_type": "code",
      "source": [
        "test_df = pd.read_csv('digit-recognizer/test.csv')\n",
        "\n",
        "test_df[:5]"
      ],
      "metadata": {
        "colab": {
          "base_uri": "https://localhost:8080/",
          "height": 255
        },
        "id": "kCD29t1ZhUou",
        "outputId": "9e1cc733-9606-4263-ba41-62576079a094"
      },
      "execution_count": null,
      "outputs": [
        {
          "output_type": "execute_result",
          "data": {
            "text/plain": [
              "   pixel0  pixel1  pixel2  pixel3  pixel4  pixel5  pixel6  pixel7  pixel8  \\\n",
              "0       0       0       0       0       0       0       0       0       0   \n",
              "1       0       0       0       0       0       0       0       0       0   \n",
              "2       0       0       0       0       0       0       0       0       0   \n",
              "3       0       0       0       0       0       0       0       0       0   \n",
              "4       0       0       0       0       0       0       0       0       0   \n",
              "\n",
              "   pixel9  ...  pixel774  pixel775  pixel776  pixel777  pixel778  pixel779  \\\n",
              "0       0  ...         0         0         0         0         0         0   \n",
              "1       0  ...         0         0         0         0         0         0   \n",
              "2       0  ...         0         0         0         0         0         0   \n",
              "3       0  ...         0         0         0         0         0         0   \n",
              "4       0  ...         0         0         0         0         0         0   \n",
              "\n",
              "   pixel780  pixel781  pixel782  pixel783  \n",
              "0         0         0         0         0  \n",
              "1         0         0         0         0  \n",
              "2         0         0         0         0  \n",
              "3         0         0         0         0  \n",
              "4         0         0         0         0  \n",
              "\n",
              "[5 rows x 784 columns]"
            ],
            "text/html": [
              "\n",
              "  <div id=\"df-25dd5359-1b7b-4b40-966b-ece5cf828bb8\" class=\"colab-df-container\">\n",
              "    <div>\n",
              "<style scoped>\n",
              "    .dataframe tbody tr th:only-of-type {\n",
              "        vertical-align: middle;\n",
              "    }\n",
              "\n",
              "    .dataframe tbody tr th {\n",
              "        vertical-align: top;\n",
              "    }\n",
              "\n",
              "    .dataframe thead th {\n",
              "        text-align: right;\n",
              "    }\n",
              "</style>\n",
              "<table border=\"1\" class=\"dataframe\">\n",
              "  <thead>\n",
              "    <tr style=\"text-align: right;\">\n",
              "      <th></th>\n",
              "      <th>pixel0</th>\n",
              "      <th>pixel1</th>\n",
              "      <th>pixel2</th>\n",
              "      <th>pixel3</th>\n",
              "      <th>pixel4</th>\n",
              "      <th>pixel5</th>\n",
              "      <th>pixel6</th>\n",
              "      <th>pixel7</th>\n",
              "      <th>pixel8</th>\n",
              "      <th>pixel9</th>\n",
              "      <th>...</th>\n",
              "      <th>pixel774</th>\n",
              "      <th>pixel775</th>\n",
              "      <th>pixel776</th>\n",
              "      <th>pixel777</th>\n",
              "      <th>pixel778</th>\n",
              "      <th>pixel779</th>\n",
              "      <th>pixel780</th>\n",
              "      <th>pixel781</th>\n",
              "      <th>pixel782</th>\n",
              "      <th>pixel783</th>\n",
              "    </tr>\n",
              "  </thead>\n",
              "  <tbody>\n",
              "    <tr>\n",
              "      <th>0</th>\n",
              "      <td>0</td>\n",
              "      <td>0</td>\n",
              "      <td>0</td>\n",
              "      <td>0</td>\n",
              "      <td>0</td>\n",
              "      <td>0</td>\n",
              "      <td>0</td>\n",
              "      <td>0</td>\n",
              "      <td>0</td>\n",
              "      <td>0</td>\n",
              "      <td>...</td>\n",
              "      <td>0</td>\n",
              "      <td>0</td>\n",
              "      <td>0</td>\n",
              "      <td>0</td>\n",
              "      <td>0</td>\n",
              "      <td>0</td>\n",
              "      <td>0</td>\n",
              "      <td>0</td>\n",
              "      <td>0</td>\n",
              "      <td>0</td>\n",
              "    </tr>\n",
              "    <tr>\n",
              "      <th>1</th>\n",
              "      <td>0</td>\n",
              "      <td>0</td>\n",
              "      <td>0</td>\n",
              "      <td>0</td>\n",
              "      <td>0</td>\n",
              "      <td>0</td>\n",
              "      <td>0</td>\n",
              "      <td>0</td>\n",
              "      <td>0</td>\n",
              "      <td>0</td>\n",
              "      <td>...</td>\n",
              "      <td>0</td>\n",
              "      <td>0</td>\n",
              "      <td>0</td>\n",
              "      <td>0</td>\n",
              "      <td>0</td>\n",
              "      <td>0</td>\n",
              "      <td>0</td>\n",
              "      <td>0</td>\n",
              "      <td>0</td>\n",
              "      <td>0</td>\n",
              "    </tr>\n",
              "    <tr>\n",
              "      <th>2</th>\n",
              "      <td>0</td>\n",
              "      <td>0</td>\n",
              "      <td>0</td>\n",
              "      <td>0</td>\n",
              "      <td>0</td>\n",
              "      <td>0</td>\n",
              "      <td>0</td>\n",
              "      <td>0</td>\n",
              "      <td>0</td>\n",
              "      <td>0</td>\n",
              "      <td>...</td>\n",
              "      <td>0</td>\n",
              "      <td>0</td>\n",
              "      <td>0</td>\n",
              "      <td>0</td>\n",
              "      <td>0</td>\n",
              "      <td>0</td>\n",
              "      <td>0</td>\n",
              "      <td>0</td>\n",
              "      <td>0</td>\n",
              "      <td>0</td>\n",
              "    </tr>\n",
              "    <tr>\n",
              "      <th>3</th>\n",
              "      <td>0</td>\n",
              "      <td>0</td>\n",
              "      <td>0</td>\n",
              "      <td>0</td>\n",
              "      <td>0</td>\n",
              "      <td>0</td>\n",
              "      <td>0</td>\n",
              "      <td>0</td>\n",
              "      <td>0</td>\n",
              "      <td>0</td>\n",
              "      <td>...</td>\n",
              "      <td>0</td>\n",
              "      <td>0</td>\n",
              "      <td>0</td>\n",
              "      <td>0</td>\n",
              "      <td>0</td>\n",
              "      <td>0</td>\n",
              "      <td>0</td>\n",
              "      <td>0</td>\n",
              "      <td>0</td>\n",
              "      <td>0</td>\n",
              "    </tr>\n",
              "    <tr>\n",
              "      <th>4</th>\n",
              "      <td>0</td>\n",
              "      <td>0</td>\n",
              "      <td>0</td>\n",
              "      <td>0</td>\n",
              "      <td>0</td>\n",
              "      <td>0</td>\n",
              "      <td>0</td>\n",
              "      <td>0</td>\n",
              "      <td>0</td>\n",
              "      <td>0</td>\n",
              "      <td>...</td>\n",
              "      <td>0</td>\n",
              "      <td>0</td>\n",
              "      <td>0</td>\n",
              "      <td>0</td>\n",
              "      <td>0</td>\n",
              "      <td>0</td>\n",
              "      <td>0</td>\n",
              "      <td>0</td>\n",
              "      <td>0</td>\n",
              "      <td>0</td>\n",
              "    </tr>\n",
              "  </tbody>\n",
              "</table>\n",
              "<p>5 rows × 784 columns</p>\n",
              "</div>\n",
              "    <div class=\"colab-df-buttons\">\n",
              "\n",
              "  <div class=\"colab-df-container\">\n",
              "    <button class=\"colab-df-convert\" onclick=\"convertToInteractive('df-25dd5359-1b7b-4b40-966b-ece5cf828bb8')\"\n",
              "            title=\"Convert this dataframe to an interactive table.\"\n",
              "            style=\"display:none;\">\n",
              "\n",
              "  <svg xmlns=\"http://www.w3.org/2000/svg\" height=\"24px\" viewBox=\"0 -960 960 960\">\n",
              "    <path d=\"M120-120v-720h720v720H120Zm60-500h600v-160H180v160Zm220 220h160v-160H400v160Zm0 220h160v-160H400v160ZM180-400h160v-160H180v160Zm440 0h160v-160H620v160ZM180-180h160v-160H180v160Zm440 0h160v-160H620v160Z\"/>\n",
              "  </svg>\n",
              "    </button>\n",
              "\n",
              "  <style>\n",
              "    .colab-df-container {\n",
              "      display:flex;\n",
              "      gap: 12px;\n",
              "    }\n",
              "\n",
              "    .colab-df-convert {\n",
              "      background-color: #E8F0FE;\n",
              "      border: none;\n",
              "      border-radius: 50%;\n",
              "      cursor: pointer;\n",
              "      display: none;\n",
              "      fill: #1967D2;\n",
              "      height: 32px;\n",
              "      padding: 0 0 0 0;\n",
              "      width: 32px;\n",
              "    }\n",
              "\n",
              "    .colab-df-convert:hover {\n",
              "      background-color: #E2EBFA;\n",
              "      box-shadow: 0px 1px 2px rgba(60, 64, 67, 0.3), 0px 1px 3px 1px rgba(60, 64, 67, 0.15);\n",
              "      fill: #174EA6;\n",
              "    }\n",
              "\n",
              "    .colab-df-buttons div {\n",
              "      margin-bottom: 4px;\n",
              "    }\n",
              "\n",
              "    [theme=dark] .colab-df-convert {\n",
              "      background-color: #3B4455;\n",
              "      fill: #D2E3FC;\n",
              "    }\n",
              "\n",
              "    [theme=dark] .colab-df-convert:hover {\n",
              "      background-color: #434B5C;\n",
              "      box-shadow: 0px 1px 3px 1px rgba(0, 0, 0, 0.15);\n",
              "      filter: drop-shadow(0px 1px 2px rgba(0, 0, 0, 0.3));\n",
              "      fill: #FFFFFF;\n",
              "    }\n",
              "  </style>\n",
              "\n",
              "    <script>\n",
              "      const buttonEl =\n",
              "        document.querySelector('#df-25dd5359-1b7b-4b40-966b-ece5cf828bb8 button.colab-df-convert');\n",
              "      buttonEl.style.display =\n",
              "        google.colab.kernel.accessAllowed ? 'block' : 'none';\n",
              "\n",
              "      async function convertToInteractive(key) {\n",
              "        const element = document.querySelector('#df-25dd5359-1b7b-4b40-966b-ece5cf828bb8');\n",
              "        const dataTable =\n",
              "          await google.colab.kernel.invokeFunction('convertToInteractive',\n",
              "                                                    [key], {});\n",
              "        if (!dataTable) return;\n",
              "\n",
              "        const docLinkHtml = 'Like what you see? Visit the ' +\n",
              "          '<a target=\"_blank\" href=https://colab.research.google.com/notebooks/data_table.ipynb>data table notebook</a>'\n",
              "          + ' to learn more about interactive tables.';\n",
              "        element.innerHTML = '';\n",
              "        dataTable['output_type'] = 'display_data';\n",
              "        await google.colab.output.renderOutput(dataTable, element);\n",
              "        const docLink = document.createElement('div');\n",
              "        docLink.innerHTML = docLinkHtml;\n",
              "        element.appendChild(docLink);\n",
              "      }\n",
              "    </script>\n",
              "  </div>\n",
              "\n",
              "\n",
              "<div id=\"df-c6d49667-033e-4ee3-b7f9-f146b4b131ca\">\n",
              "  <button class=\"colab-df-quickchart\" onclick=\"quickchart('df-c6d49667-033e-4ee3-b7f9-f146b4b131ca')\"\n",
              "            title=\"Suggest charts.\"\n",
              "            style=\"display:none;\">\n",
              "\n",
              "<svg xmlns=\"http://www.w3.org/2000/svg\" height=\"24px\"viewBox=\"0 0 24 24\"\n",
              "     width=\"24px\">\n",
              "    <g>\n",
              "        <path d=\"M19 3H5c-1.1 0-2 .9-2 2v14c0 1.1.9 2 2 2h14c1.1 0 2-.9 2-2V5c0-1.1-.9-2-2-2zM9 17H7v-7h2v7zm4 0h-2V7h2v10zm4 0h-2v-4h2v4z\"/>\n",
              "    </g>\n",
              "</svg>\n",
              "  </button>\n",
              "\n",
              "<style>\n",
              "  .colab-df-quickchart {\n",
              "      --bg-color: #E8F0FE;\n",
              "      --fill-color: #1967D2;\n",
              "      --hover-bg-color: #E2EBFA;\n",
              "      --hover-fill-color: #174EA6;\n",
              "      --disabled-fill-color: #AAA;\n",
              "      --disabled-bg-color: #DDD;\n",
              "  }\n",
              "\n",
              "  [theme=dark] .colab-df-quickchart {\n",
              "      --bg-color: #3B4455;\n",
              "      --fill-color: #D2E3FC;\n",
              "      --hover-bg-color: #434B5C;\n",
              "      --hover-fill-color: #FFFFFF;\n",
              "      --disabled-bg-color: #3B4455;\n",
              "      --disabled-fill-color: #666;\n",
              "  }\n",
              "\n",
              "  .colab-df-quickchart {\n",
              "    background-color: var(--bg-color);\n",
              "    border: none;\n",
              "    border-radius: 50%;\n",
              "    cursor: pointer;\n",
              "    display: none;\n",
              "    fill: var(--fill-color);\n",
              "    height: 32px;\n",
              "    padding: 0;\n",
              "    width: 32px;\n",
              "  }\n",
              "\n",
              "  .colab-df-quickchart:hover {\n",
              "    background-color: var(--hover-bg-color);\n",
              "    box-shadow: 0 1px 2px rgba(60, 64, 67, 0.3), 0 1px 3px 1px rgba(60, 64, 67, 0.15);\n",
              "    fill: var(--button-hover-fill-color);\n",
              "  }\n",
              "\n",
              "  .colab-df-quickchart-complete:disabled,\n",
              "  .colab-df-quickchart-complete:disabled:hover {\n",
              "    background-color: var(--disabled-bg-color);\n",
              "    fill: var(--disabled-fill-color);\n",
              "    box-shadow: none;\n",
              "  }\n",
              "\n",
              "  .colab-df-spinner {\n",
              "    border: 2px solid var(--fill-color);\n",
              "    border-color: transparent;\n",
              "    border-bottom-color: var(--fill-color);\n",
              "    animation:\n",
              "      spin 1s steps(1) infinite;\n",
              "  }\n",
              "\n",
              "  @keyframes spin {\n",
              "    0% {\n",
              "      border-color: transparent;\n",
              "      border-bottom-color: var(--fill-color);\n",
              "      border-left-color: var(--fill-color);\n",
              "    }\n",
              "    20% {\n",
              "      border-color: transparent;\n",
              "      border-left-color: var(--fill-color);\n",
              "      border-top-color: var(--fill-color);\n",
              "    }\n",
              "    30% {\n",
              "      border-color: transparent;\n",
              "      border-left-color: var(--fill-color);\n",
              "      border-top-color: var(--fill-color);\n",
              "      border-right-color: var(--fill-color);\n",
              "    }\n",
              "    40% {\n",
              "      border-color: transparent;\n",
              "      border-right-color: var(--fill-color);\n",
              "      border-top-color: var(--fill-color);\n",
              "    }\n",
              "    60% {\n",
              "      border-color: transparent;\n",
              "      border-right-color: var(--fill-color);\n",
              "    }\n",
              "    80% {\n",
              "      border-color: transparent;\n",
              "      border-right-color: var(--fill-color);\n",
              "      border-bottom-color: var(--fill-color);\n",
              "    }\n",
              "    90% {\n",
              "      border-color: transparent;\n",
              "      border-bottom-color: var(--fill-color);\n",
              "    }\n",
              "  }\n",
              "</style>\n",
              "\n",
              "  <script>\n",
              "    async function quickchart(key) {\n",
              "      const quickchartButtonEl =\n",
              "        document.querySelector('#' + key + ' button');\n",
              "      quickchartButtonEl.disabled = true;  // To prevent multiple clicks.\n",
              "      quickchartButtonEl.classList.add('colab-df-spinner');\n",
              "      try {\n",
              "        const charts = await google.colab.kernel.invokeFunction(\n",
              "            'suggestCharts', [key], {});\n",
              "      } catch (error) {\n",
              "        console.error('Error during call to suggestCharts:', error);\n",
              "      }\n",
              "      quickchartButtonEl.classList.remove('colab-df-spinner');\n",
              "      quickchartButtonEl.classList.add('colab-df-quickchart-complete');\n",
              "    }\n",
              "    (() => {\n",
              "      let quickchartButtonEl =\n",
              "        document.querySelector('#df-c6d49667-033e-4ee3-b7f9-f146b4b131ca button');\n",
              "      quickchartButtonEl.style.display =\n",
              "        google.colab.kernel.accessAllowed ? 'block' : 'none';\n",
              "    })();\n",
              "  </script>\n",
              "</div>\n",
              "    </div>\n",
              "  </div>\n"
            ]
          },
          "metadata": {},
          "execution_count": 41
        }
      ]
    },
    {
      "cell_type": "markdown",
      "source": [
        "## 2. Make X and y datasets"
      ],
      "metadata": {
        "id": "f7qlDZLP4Ehf"
      }
    },
    {
      "cell_type": "markdown",
      "source": [
        "### 2.1 Put labels and image data into dataset"
      ],
      "metadata": {
        "id": "MC9RQBLeZnTz"
      }
    },
    {
      "cell_type": "code",
      "source": [
        "print(train_df.columns)"
      ],
      "metadata": {
        "id": "5blCMCso5xTh",
        "colab": {
          "base_uri": "https://localhost:8080/"
        },
        "outputId": "341b1876-f8af-4e30-f453-e888fcbefe66"
      },
      "execution_count": null,
      "outputs": [
        {
          "output_type": "stream",
          "name": "stdout",
          "text": [
            "Index(['label', 'pixel0', 'pixel1', 'pixel2', 'pixel3', 'pixel4', 'pixel5',\n",
            "       'pixel6', 'pixel7', 'pixel8',\n",
            "       ...\n",
            "       'pixel774', 'pixel775', 'pixel776', 'pixel777', 'pixel778', 'pixel779',\n",
            "       'pixel780', 'pixel781', 'pixel782', 'pixel783'],\n",
            "      dtype='object', length=785)\n"
          ]
        }
      ]
    },
    {
      "cell_type": "code",
      "source": [
        "X = train_df.drop(columns=['label'])\n",
        "y = train_df['label']\n",
        "X_res = test_df"
      ],
      "metadata": {
        "id": "vVaGk99a6aE4"
      },
      "execution_count": null,
      "outputs": []
    },
    {
      "cell_type": "markdown",
      "source": [
        "### 2.2 Normalize X datasets"
      ],
      "metadata": {
        "id": "zAI-JECeg80q"
      }
    },
    {
      "cell_type": "code",
      "source": [
        "X /= 255.\n",
        "X_res /= 255.\n",
        "print(X.head())\n",
        "print(X_res.head())"
      ],
      "metadata": {
        "colab": {
          "base_uri": "https://localhost:8080/"
        },
        "id": "qfcS0znlg-vy",
        "outputId": "4acfb1aa-2acb-44ea-9ae9-36e694c11fbe"
      },
      "execution_count": null,
      "outputs": [
        {
          "output_type": "stream",
          "name": "stdout",
          "text": [
            "   pixel0  pixel1  pixel2  pixel3  pixel4  pixel5  pixel6  pixel7  pixel8  \\\n",
            "0     0.0     0.0     0.0     0.0     0.0     0.0     0.0     0.0     0.0   \n",
            "1     0.0     0.0     0.0     0.0     0.0     0.0     0.0     0.0     0.0   \n",
            "2     0.0     0.0     0.0     0.0     0.0     0.0     0.0     0.0     0.0   \n",
            "3     0.0     0.0     0.0     0.0     0.0     0.0     0.0     0.0     0.0   \n",
            "4     0.0     0.0     0.0     0.0     0.0     0.0     0.0     0.0     0.0   \n",
            "\n",
            "   pixel9  ...  pixel774  pixel775  pixel776  pixel777  pixel778  pixel779  \\\n",
            "0     0.0  ...       0.0       0.0       0.0       0.0       0.0       0.0   \n",
            "1     0.0  ...       0.0       0.0       0.0       0.0       0.0       0.0   \n",
            "2     0.0  ...       0.0       0.0       0.0       0.0       0.0       0.0   \n",
            "3     0.0  ...       0.0       0.0       0.0       0.0       0.0       0.0   \n",
            "4     0.0  ...       0.0       0.0       0.0       0.0       0.0       0.0   \n",
            "\n",
            "   pixel780  pixel781  pixel782  pixel783  \n",
            "0       0.0       0.0       0.0       0.0  \n",
            "1       0.0       0.0       0.0       0.0  \n",
            "2       0.0       0.0       0.0       0.0  \n",
            "3       0.0       0.0       0.0       0.0  \n",
            "4       0.0       0.0       0.0       0.0  \n",
            "\n",
            "[5 rows x 784 columns]\n",
            "   pixel0  pixel1  pixel2  pixel3  pixel4  pixel5  pixel6  pixel7  pixel8  \\\n",
            "0     0.0     0.0     0.0     0.0     0.0     0.0     0.0     0.0     0.0   \n",
            "1     0.0     0.0     0.0     0.0     0.0     0.0     0.0     0.0     0.0   \n",
            "2     0.0     0.0     0.0     0.0     0.0     0.0     0.0     0.0     0.0   \n",
            "3     0.0     0.0     0.0     0.0     0.0     0.0     0.0     0.0     0.0   \n",
            "4     0.0     0.0     0.0     0.0     0.0     0.0     0.0     0.0     0.0   \n",
            "\n",
            "   pixel9  ...  pixel774  pixel775  pixel776  pixel777  pixel778  pixel779  \\\n",
            "0     0.0  ...       0.0       0.0       0.0       0.0       0.0       0.0   \n",
            "1     0.0  ...       0.0       0.0       0.0       0.0       0.0       0.0   \n",
            "2     0.0  ...       0.0       0.0       0.0       0.0       0.0       0.0   \n",
            "3     0.0  ...       0.0       0.0       0.0       0.0       0.0       0.0   \n",
            "4     0.0  ...       0.0       0.0       0.0       0.0       0.0       0.0   \n",
            "\n",
            "   pixel780  pixel781  pixel782  pixel783  \n",
            "0       0.0       0.0       0.0       0.0  \n",
            "1       0.0       0.0       0.0       0.0  \n",
            "2       0.0       0.0       0.0       0.0  \n",
            "3       0.0       0.0       0.0       0.0  \n",
            "4       0.0       0.0       0.0       0.0  \n",
            "\n",
            "[5 rows x 784 columns]\n"
          ]
        }
      ]
    },
    {
      "cell_type": "markdown",
      "source": [
        "### 2.3 Reshape X datasets\n",
        "The Pictures are 784 pixels total which is 28*28.\n",
        "Reshape X_train and X_test to 28x28"
      ],
      "metadata": {
        "id": "0K4vDDRFiKgL"
      }
    },
    {
      "cell_type": "code",
      "source": [
        "X = X.values.reshape(-1, 28, 28, 1)\n",
        "X_res = X_res.values.reshape(-1, 28, 28, 1)\n",
        "X.shape, X_res.shape"
      ],
      "metadata": {
        "colab": {
          "base_uri": "https://localhost:8080/"
        },
        "id": "2OHiC9SqiqcL",
        "outputId": "cf8ddea9-cb7e-4c74-abff-0c8a76d397f1"
      },
      "execution_count": null,
      "outputs": [
        {
          "output_type": "execute_result",
          "data": {
            "text/plain": [
              "((42000, 28, 28, 1), (28000, 28, 28, 1))"
            ]
          },
          "metadata": {},
          "execution_count": 45
        }
      ]
    },
    {
      "cell_type": "markdown",
      "source": [
        "### 2.4 One hot encode y\n",
        "There are 10 different digits, so the number of classes will be 10"
      ],
      "metadata": {
        "id": "tbn_h5lpkDtS"
      }
    },
    {
      "cell_type": "code",
      "source": [
        "from keras.utils import to_categorical\n",
        "y = to_categorical(y, num_classes = 10)"
      ],
      "metadata": {
        "id": "VeWBomL-kovE"
      },
      "execution_count": null,
      "outputs": []
    },
    {
      "cell_type": "markdown",
      "source": [
        "## 3. Visualize data"
      ],
      "metadata": {
        "id": "InfYqFeq8tuz"
      }
    },
    {
      "cell_type": "markdown",
      "source": [
        "### 3.1 Plot random images with labels"
      ],
      "metadata": {
        "id": "Yx29DSjJ9V6U"
      }
    },
    {
      "cell_type": "code",
      "source": [
        "import matplotlib.pyplot as plt\n",
        "import random\n",
        "import numpy as np\n",
        "\n",
        "def plot_n_random_images(n=5):\n",
        "\n",
        "  \"\"\"\n",
        "  Plots n random images with labels as titles\n",
        "  \"\"\"\n",
        "\n",
        "  fig = plt.figure(figsize=(10, 7))\n",
        "\n",
        "  for i in range(1,n+1):\n",
        "    rand_id = random.randint(0, 4200-1)\n",
        "\n",
        "    img = X[rand_id][:, :, 0]\n",
        "    label = y[rand_id]\n",
        "\n",
        "    fig.add_subplot(1,5,i)\n",
        "    plt.imshow(img)\n",
        "    plt.axis(False)\n",
        "    plt.title(f\"Answer: {np.where(y_ds[rand_id] == 1)[0]}\")\n",
        "\n",
        "  plt.show()"
      ],
      "metadata": {
        "id": "3S6hQte48tHE"
      },
      "execution_count": null,
      "outputs": []
    },
    {
      "cell_type": "code",
      "source": [
        "plot_n_random_images()"
      ],
      "metadata": {
        "colab": {
          "base_uri": "https://localhost:8080/",
          "height": 192
        },
        "id": "FTpMnPF3QocB",
        "outputId": "6bb789c9-8af2-47b7-ada6-2df6a21b5342"
      },
      "execution_count": null,
      "outputs": [
        {
          "output_type": "display_data",
          "data": {
            "text/plain": [
              "<Figure size 1000x700 with 5 Axes>"
            ],
            "image/png": "[encoded data removed]"
          },
          "metadata": {}
        }
      ]
    },
    {
      "cell_type": "markdown",
      "source": [
        "## 4. Preprocess Images"
      ],
      "metadata": {
        "id": "v4xsi3pzWCqW"
      }
    },
    {
      "cell_type": "markdown",
      "source": [
        "### 4.1 Create Augmentation Datagen"
      ],
      "metadata": {
        "id": "CLp_kUHyWJti"
      }
    },
    {
      "cell_type": "code",
      "source": [
        "from tensorflow.keras.preprocessing.image import ImageDataGenerator\n",
        "\n",
        "datagen = ImageDataGenerator(rotation_range=15, # shouldn't be too high because it could change a number\n",
        "                             width_shift_range=0.1,\n",
        "                             height_shift_range=0.1,\n",
        "                             zoom_range=0.1)"
      ],
      "metadata": {
        "id": "cN4RJDiJWNB1"
      },
      "execution_count": null,
      "outputs": []
    },
    {
      "cell_type": "code",
      "source": [],
      "metadata": {
        "id": "_LcSa_fLOqmt"
      },
      "execution_count": null,
      "outputs": []
    },
    {
      "cell_type": "code",
      "source": [
        "from sklearn.model_selection import KFold\n",
        "kfold = KFold(n_splits=5, shuffle=True, random_state=42)"
      ],
      "metadata": {
        "id": "MRaNOn_9O8eY"
      },
      "execution_count": null,
      "outputs": []
    },
    {
      "cell_type": "code",
      "source": [
        "from sklearn.metrics import accuracy_score\n",
        "\n",
        "for train_index, test_index in kfold.split(X):\n",
        "    X_train, X_test = X[train_index], X[test_index]\n",
        "    y_train, y_test = y[train_index], y[test_index]\n",
        "\n",
        "    datagen.fit(X_train)\n",
        "    train_data = datagen.flow(X_train, y_train, batch_size=64)\n",
        "    test_data = (X_test, y_test)\n",
        "\n",
        "    model_3.fit(train_data,\n",
        "                  epochs=50,\n",
        "                  steps_per_epoch=len(train_data),\n",
        "                  validation_data=test_data,\n",
        "                  validation_steps=len(test_data),\n",
        "                  callbacks=[reduce_lr, early_stopping])\n",
        "\n",
        "   # y_pred = model_3.predict(X_test)\n",
        "    #y_pred = tf.argmax(y_pred, axis=1)\n",
        "    #y_test = tf.constant(y_test)\n"
      ],
      "metadata": {
        "colab": {
          "base_uri": "https://localhost:8080/"
        },
        "id": "tvLHbdgkOqpP",
        "outputId": "1e8f286f-12a0-4b1a-8419-a3935609748c"
      },
      "execution_count": null,
      "outputs": [
        {
          "output_type": "stream",
          "name": "stdout",
          "text": [
            "Epoch 1/50\n",
            "525/525 [==============================] - 18s 27ms/step - loss: 0.2956 - accuracy: 0.9059 - val_loss: 0.0915 - val_accuracy: 0.9738 - lr: 0.0010\n",
            "Epoch 2/50\n",
            "525/525 [==============================] - 14s 26ms/step - loss: 0.1060 - accuracy: 0.9661 - val_loss: 0.0377 - val_accuracy: 0.9881 - lr: 0.0010\n",
            "Epoch 3/50\n",
            "525/525 [==============================] - 14s 26ms/step - loss: 0.0862 - accuracy: 0.9746 - val_loss: 0.0450 - val_accuracy: 0.9855 - lr: 0.0010\n",
            "Epoch 4/50\n",
            "525/525 [==============================] - 14s 26ms/step - loss: 0.0700 - accuracy: 0.9798 - val_loss: 0.0315 - val_accuracy: 0.9900 - lr: 0.0010\n",
            "Epoch 5/50\n",
            "525/525 [==============================] - 14s 26ms/step - loss: 0.0623 - accuracy: 0.9811 - val_loss: 0.0281 - val_accuracy: 0.9911 - lr: 0.0010\n",
            "Epoch 6/50\n",
            "525/525 [==============================] - 14s 26ms/step - loss: 0.0597 - accuracy: 0.9812 - val_loss: 0.0360 - val_accuracy: 0.9882 - lr: 0.0010\n",
            "Epoch 7/50\n",
            "525/525 [==============================] - ETA: 0s - loss: 0.0537 - accuracy: 0.9841\n",
            "Epoch 7: ReduceLROnPlateau reducing learning rate to 0.00020000000949949026.\n",
            "525/525 [==============================] - 14s 26ms/step - loss: 0.0537 - accuracy: 0.9841 - val_loss: 0.0358 - val_accuracy: 0.9881 - lr: 0.0010\n",
            "Epoch 8/50\n",
            "525/525 [==============================] - 14s 26ms/step - loss: 0.0377 - accuracy: 0.9887 - val_loss: 0.0173 - val_accuracy: 0.9945 - lr: 2.0000e-04\n",
            "Epoch 9/50\n",
            "525/525 [==============================] - 14s 27ms/step - loss: 0.0310 - accuracy: 0.9899 - val_loss: 0.0186 - val_accuracy: 0.9943 - lr: 2.0000e-04\n",
            "Epoch 10/50\n",
            "525/525 [==============================] - ETA: 0s - loss: 0.0287 - accuracy: 0.9917\n",
            "Epoch 10: ReduceLROnPlateau reducing learning rate to 4.0000001899898055e-05.\n",
            "525/525 [==============================] - 14s 27ms/step - loss: 0.0287 - accuracy: 0.9917 - val_loss: 0.0185 - val_accuracy: 0.9938 - lr: 2.0000e-04\n",
            "Epoch 11/50\n",
            "525/525 [==============================] - 14s 27ms/step - loss: 0.0262 - accuracy: 0.9917 - val_loss: 0.0157 - val_accuracy: 0.9942 - lr: 4.0000e-05\n",
            "Epoch 12/50\n",
            "525/525 [==============================] - 14s 26ms/step - loss: 0.0249 - accuracy: 0.9918 - val_loss: 0.0151 - val_accuracy: 0.9945 - lr: 4.0000e-05\n",
            "Epoch 13/50\n",
            "525/525 [==============================] - 14s 26ms/step - loss: 0.0266 - accuracy: 0.9915 - val_loss: 0.0155 - val_accuracy: 0.9944 - lr: 4.0000e-05\n",
            "Epoch 14/50\n",
            "523/525 [============================>.] - ETA: 0s - loss: 0.0249 - accuracy: 0.9923\n",
            "Epoch 14: ReduceLROnPlateau reducing learning rate to 8.000000525498762e-06.\n",
            "525/525 [==============================] - 14s 27ms/step - loss: 0.0249 - accuracy: 0.9923 - val_loss: 0.0154 - val_accuracy: 0.9943 - lr: 4.0000e-05\n",
            "Epoch 15/50\n",
            "525/525 [==============================] - 14s 27ms/step - loss: 0.0228 - accuracy: 0.9929 - val_loss: 0.0153 - val_accuracy: 0.9943 - lr: 8.0000e-06\n",
            "Epoch 1/50\n",
            "525/525 [==============================] - 14s 27ms/step - loss: 0.0251 - accuracy: 0.9922 - val_loss: 0.0079 - val_accuracy: 0.9976 - lr: 8.0000e-06\n",
            "Epoch 2/50\n",
            "525/525 [==============================] - 14s 27ms/step - loss: 0.0241 - accuracy: 0.9927 - val_loss: 0.0079 - val_accuracy: 0.9976 - lr: 8.0000e-06\n",
            "Epoch 3/50\n",
            "525/525 [==============================] - ETA: 0s - loss: 0.0238 - accuracy: 0.9926\n",
            "Epoch 3: ReduceLROnPlateau reducing learning rate to 1.6000001778593287e-06.\n",
            "525/525 [==============================] - 14s 27ms/step - loss: 0.0238 - accuracy: 0.9926 - val_loss: 0.0079 - val_accuracy: 0.9976 - lr: 8.0000e-06\n",
            "Epoch 4/50\n",
            "525/525 [==============================] - 14s 27ms/step - loss: 0.0248 - accuracy: 0.9918 - val_loss: 0.0079 - val_accuracy: 0.9977 - lr: 1.6000e-06\n",
            "Epoch 5/50\n",
            "524/525 [============================>.] - ETA: 0s - loss: 0.0247 - accuracy: 0.9918\n",
            "Epoch 5: ReduceLROnPlateau reducing learning rate to 3.200000264769187e-07.\n",
            "525/525 [==============================] - 14s 27ms/step - loss: 0.0247 - accuracy: 0.9918 - val_loss: 0.0079 - val_accuracy: 0.9977 - lr: 1.6000e-06\n",
            "Epoch 6/50\n",
            "525/525 [==============================] - 15s 28ms/step - loss: 0.0251 - accuracy: 0.9921 - val_loss: 0.0079 - val_accuracy: 0.9975 - lr: 3.2000e-07\n",
            "Epoch 7/50\n",
            "524/525 [============================>.] - ETA: 0s - loss: 0.0242 - accuracy: 0.9923\n",
            "Epoch 7: ReduceLROnPlateau reducing learning rate to 1e-07.\n",
            "525/525 [==============================] - 14s 27ms/step - loss: 0.0242 - accuracy: 0.9924 - val_loss: 0.0079 - val_accuracy: 0.9976 - lr: 3.2000e-07\n",
            "Epoch 8/50\n",
            "525/525 [==============================] - 14s 27ms/step - loss: 0.0229 - accuracy: 0.9927 - val_loss: 0.0079 - val_accuracy: 0.9977 - lr: 1.0000e-07\n",
            "Epoch 1/50\n",
            "525/525 [==============================] - 14s 27ms/step - loss: 0.0237 - accuracy: 0.9929 - val_loss: 0.0080 - val_accuracy: 0.9980 - lr: 1.0000e-07\n",
            "Epoch 2/50\n",
            "525/525 [==============================] - 14s 27ms/step - loss: 0.0242 - accuracy: 0.9926 - val_loss: 0.0080 - val_accuracy: 0.9979 - lr: 1.0000e-07\n",
            "Epoch 3/50\n",
            "525/525 [==============================] - 14s 27ms/step - loss: 0.0237 - accuracy: 0.9924 - val_loss: 0.0080 - val_accuracy: 0.9980 - lr: 1.0000e-07\n",
            "Epoch 4/50\n",
            "525/525 [==============================] - 14s 26ms/step - loss: 0.0233 - accuracy: 0.9928 - val_loss: 0.0079 - val_accuracy: 0.9979 - lr: 1.0000e-07\n",
            "Epoch 5/50\n",
            "525/525 [==============================] - 14s 27ms/step - loss: 0.0239 - accuracy: 0.9928 - val_loss: 0.0080 - val_accuracy: 0.9980 - lr: 1.0000e-07\n",
            "Epoch 6/50\n",
            "525/525 [==============================] - 14s 26ms/step - loss: 0.0259 - accuracy: 0.9922 - val_loss: 0.0080 - val_accuracy: 0.9979 - lr: 1.0000e-07\n",
            "Epoch 7/50\n",
            "525/525 [==============================] - 14s 27ms/step - loss: 0.0224 - accuracy: 0.9931 - val_loss: 0.0080 - val_accuracy: 0.9979 - lr: 1.0000e-07\n",
            "Epoch 1/50\n",
            "525/525 [==============================] - 15s 28ms/step - loss: 0.0246 - accuracy: 0.9920 - val_loss: 0.0071 - val_accuracy: 0.9977 - lr: 1.0000e-07\n",
            "Epoch 2/50\n",
            "525/525 [==============================] - 14s 26ms/step - loss: 0.0247 - accuracy: 0.9920 - val_loss: 0.0071 - val_accuracy: 0.9979 - lr: 1.0000e-07\n",
            "Epoch 3/50\n",
            "525/525 [==============================] - 14s 26ms/step - loss: 0.0237 - accuracy: 0.9923 - val_loss: 0.0072 - val_accuracy: 0.9977 - lr: 1.0000e-07\n",
            "Epoch 4/50\n",
            "525/525 [==============================] - 14s 26ms/step - loss: 0.0231 - accuracy: 0.9925 - val_loss: 0.0072 - val_accuracy: 0.9977 - lr: 1.0000e-07\n",
            "Epoch 5/50\n",
            "525/525 [==============================] - 14s 26ms/step - loss: 0.0243 - accuracy: 0.9925 - val_loss: 0.0072 - val_accuracy: 0.9977 - lr: 1.0000e-07\n",
            "Epoch 1/50\n",
            "525/525 [==============================] - 14s 26ms/step - loss: 0.0244 - accuracy: 0.9922 - val_loss: 0.0097 - val_accuracy: 0.9973 - lr: 1.0000e-07\n",
            "Epoch 2/50\n",
            "525/525 [==============================] - 14s 26ms/step - loss: 0.0244 - accuracy: 0.9916 - val_loss: 0.0097 - val_accuracy: 0.9973 - lr: 1.0000e-07\n",
            "Epoch 3/50\n",
            "525/525 [==============================] - 14s 27ms/step - loss: 0.0253 - accuracy: 0.9920 - val_loss: 0.0097 - val_accuracy: 0.9973 - lr: 1.0000e-07\n",
            "Epoch 4/50\n",
            "525/525 [==============================] - 14s 26ms/step - loss: 0.0237 - accuracy: 0.9930 - val_loss: 0.0097 - val_accuracy: 0.9973 - lr: 1.0000e-07\n"
          ]
        }
      ]
    },
    {
      "cell_type": "code",
      "source": [
        "history_3 = model_3.fit(train_data,\n",
        "                  epochs=50,\n",
        "                  steps_per_epoch=len(train_data),\n",
        "                  validation_data=val_data,\n",
        "                  validation_steps=len(val_data),\n",
        "                  callbacks=[reduce_lr, early_stopping])"
      ],
      "metadata": {
        "id": "GUoaG5wcOquH"
      },
      "execution_count": null,
      "outputs": []
    },
    {
      "cell_type": "markdown",
      "source": [
        "### 4.2 Fit Training Data to Datagen"
      ],
      "metadata": {
        "id": "OoFyYOVgXccC"
      }
    },
    {
      "cell_type": "code",
      "source": [
        "datagen.fit(X)"
      ],
      "metadata": {
        "id": "xBYnOp8tXhET"
      },
      "execution_count": null,
      "outputs": []
    },
    {
      "cell_type": "markdown",
      "source": [
        "### 4.3 Create and Batch Training and Validation Datasets"
      ],
      "metadata": {
        "id": "hiTO_8IRX0Nu"
      }
    },
    {
      "cell_type": "code",
      "source": [
        "batch_size = 64\n",
        "train_data = datagen.flow(X_train, y_train, batch_size=batch_size)\n",
        "val_data = (X_val, y_val)"
      ],
      "metadata": {
        "id": "msyQIS1TX8Jt"
      },
      "execution_count": null,
      "outputs": []
    },
    {
      "cell_type": "markdown",
      "source": [
        "## 5. Build and train the model"
      ],
      "metadata": {
        "id": "BZFtQtUImtx2"
      }
    },
    {
      "cell_type": "markdown",
      "source": [
        "#### 5.1.2 Plot Loss Curves of the Base Model"
      ],
      "metadata": {
        "id": "wWF7-q8hnaxM"
      }
    },
    {
      "cell_type": "code",
      "source": [
        "def plot_loss_curves(history):\n",
        "  \"\"\"\n",
        "  Returns separate loss curves for training and validation metrics.\n",
        "  \"\"\"\n",
        "\n",
        "  loss = history.history['loss']\n",
        "  val_loss = history.history['val_loss']\n",
        "\n",
        "  accuracy = history.history['accuracy']\n",
        "  val_accuracy = history.history['val_accuracy']\n",
        "\n",
        "  epochs = range(len(history.history['loss']))\n",
        "\n",
        "  # plot loss\n",
        "  plt.plot(epochs,loss,label='train_loss')\n",
        "  plt.plot(epochs,val_loss,label='test_loss')\n",
        "  plt.title('Losses')\n",
        "  plt.xlabel('Epochs')\n",
        "  plt.legend()\n",
        "\n",
        "  #plot accuracy\n",
        "  plt.figure()\n",
        "  plt.plot(epochs, accuracy, label='train_acc')\n",
        "  plt.plot(epochs, val_accuracy, label='val_acc')\n",
        "  plt.xlabel('Epochs')\n",
        "  plt.title('Accuracy')\n",
        "  plt.legend"
      ],
      "metadata": {
        "id": "F0odbPh6nwNk"
      },
      "execution_count": null,
      "outputs": []
    },
    {
      "cell_type": "markdown",
      "source": [
        "#### 5.2.1 EarlyStopping callback"
      ],
      "metadata": {
        "id": "caGWekeLngz-"
      }
    },
    {
      "cell_type": "code",
      "source": [
        "early_stopping = tf.keras.callbacks.EarlyStopping(monitor=\"val_loss\",\n",
        "                                                  patience=3)"
      ],
      "metadata": {
        "id": "_r9sG_MTniaT"
      },
      "execution_count": null,
      "outputs": []
    },
    {
      "cell_type": "markdown",
      "source": [
        "#### 5.2.2 ReduceLrOnPlateu Callback"
      ],
      "metadata": {
        "id": "hM-uY_xQnvrs"
      }
    },
    {
      "cell_type": "code",
      "source": [
        "reduce_lr = tf.keras.callbacks.ReduceLROnPlateau(monitor=\"val_loss\",\n",
        "                                                 factor=0.2,\n",
        "                                                 patience=2,\n",
        "                                                 verbose=1,\n",
        "                                                 min_lr=1e-7)"
      ],
      "metadata": {
        "id": "uY5SAm5pn0Ag"
      },
      "execution_count": null,
      "outputs": []
    },
    {
      "cell_type": "markdown",
      "source": [
        "### 5.4 Tweak the Larger CNN Model"
      ],
      "metadata": {
        "id": "QK6rkUjg0hTy"
      }
    },
    {
      "cell_type": "markdown",
      "source": [
        "#### 5.4.1 Build the Model"
      ],
      "metadata": {
        "id": "48x9VwmR0qpd"
      }
    },
    {
      "cell_type": "code",
      "source": [
        "import tensorflow as tf\n",
        "from tensorflow.keras import Sequential, layers\n",
        "\n",
        "tf.random.set_seed(42)\n",
        "\n",
        "# create\n",
        "model_3 = Sequential([\n",
        "    layers.Conv2D(32, 3, padding='same', activation='relu', input_shape=(28,28,1)),\n",
        "    layers.Conv2D(32, 3, padding='same', activation='relu'),\n",
        "    layers.MaxPooling2D(),\n",
        "    layers.Dropout(0.2),\n",
        "    layers.BatchNormalization(),\n",
        "\n",
        "    layers.Conv2D(64, 3, padding='same', activation='relu'),\n",
        "    layers.MaxPooling2D(),\n",
        "    layers.Dropout(0.2),\n",
        "    layers.BatchNormalization(),\n",
        "\n",
        "    layers.Conv2D(256, 3, padding='same', activation='relu'),\n",
        "    layers.MaxPooling2D(),\n",
        "    layers.Dropout(0.2),\n",
        "    layers.BatchNormalization(),\n",
        "\n",
        "    layers.Flatten(),\n",
        "\n",
        "    layers.Dense(128, activation='relu'),\n",
        "\n",
        "\n",
        "    layers.Dense(10, activation='softmax')\n",
        "])\n",
        "\n",
        "# compile\n",
        "model_3.compile(optimizer=tf.keras.optimizers.Adam(),\n",
        "                loss=tf.keras.losses.CategoricalCrossentropy(),\n",
        "                metrics=['accuracy'])\n",
        "\n",
        "# get summary\n",
        "model_3.summary()"
      ],
      "metadata": {
        "colab": {
          "base_uri": "https://localhost:8080/"
        },
        "id": "8nhRZQ1h0mjm",
        "outputId": "e44055d5-2cfb-4d90-bf89-c0a37b4fa89f"
      },
      "execution_count": null,
      "outputs": [
        {
          "output_type": "stream",
          "name": "stdout",
          "text": [
            "Model: \"sequential_5\"\n",
            "_________________________________________________________________\n",
            " Layer (type)                Output Shape              Param #   \n",
            "=================================================================\n",
            " conv2d_20 (Conv2D)          (None, 28, 28, 32)        320       \n",
            "                                                                 \n",
            " conv2d_21 (Conv2D)          (None, 28, 28, 32)        9248      \n",
            "                                                                 \n",
            " max_pooling2d_15 (MaxPooli  (None, 14, 14, 32)        0         \n",
            " ng2D)                                                           \n",
            "                                                                 \n",
            " dropout_20 (Dropout)        (None, 14, 14, 32)        0         \n",
            "                                                                 \n",
            " batch_normalization_20 (Ba  (None, 14, 14, 32)        128       \n",
            " tchNormalization)                                               \n",
            "                                                                 \n",
            " conv2d_22 (Conv2D)          (None, 14, 14, 64)        18496     \n",
            "                                                                 \n",
            " max_pooling2d_16 (MaxPooli  (None, 7, 7, 64)          0         \n",
            " ng2D)                                                           \n",
            "                                                                 \n",
            " dropout_21 (Dropout)        (None, 7, 7, 64)          0         \n",
            "                                                                 \n",
            " batch_normalization_21 (Ba  (None, 7, 7, 64)          256       \n",
            " tchNormalization)                                               \n",
            "                                                                 \n",
            " conv2d_23 (Conv2D)          (None, 7, 7, 256)         147712    \n",
            "                                                                 \n",
            " max_pooling2d_17 (MaxPooli  (None, 3, 3, 256)         0         \n",
            " ng2D)                                                           \n",
            "                                                                 \n",
            " dropout_22 (Dropout)        (None, 3, 3, 256)         0         \n",
            "                                                                 \n",
            " batch_normalization_22 (Ba  (None, 3, 3, 256)         1024      \n",
            " tchNormalization)                                               \n",
            "                                                                 \n",
            " flatten_5 (Flatten)         (None, 2304)              0         \n",
            "                                                                 \n",
            " dense_10 (Dense)            (None, 128)               295040    \n",
            "                                                                 \n",
            " dense_11 (Dense)            (None, 10)                1290      \n",
            "                                                                 \n",
            "=================================================================\n",
            "Total params: 473514 (1.81 MB)\n",
            "Trainable params: 472810 (1.80 MB)\n",
            "Non-trainable params: 704 (2.75 KB)\n",
            "_________________________________________________________________\n"
          ]
        }
      ]
    },
    {
      "cell_type": "markdown",
      "source": [
        "#### 5.4.2 Fit the Model"
      ],
      "metadata": {
        "id": "4V1QOxUL0v9p"
      }
    },
    {
      "cell_type": "code",
      "source": [
        "history_3 = model_3.fit(train_data,\n",
        "                  epochs=50,\n",
        "                  steps_per_epoch=len(train_data),\n",
        "                  validation_data=val_data,\n",
        "                  validation_steps=len(val_data),\n",
        "                  callbacks=[reduce_lr, early_stopping])"
      ],
      "metadata": {
        "colab": {
          "base_uri": "https://localhost:8080/"
        },
        "id": "kKaV_mem0yGu",
        "outputId": "1595dd8c-09d4-4a32-95eb-6a50e57f3cd0"
      },
      "execution_count": null,
      "outputs": [
        {
          "output_type": "stream",
          "name": "stdout",
          "text": [
            "Epoch 1/50\n",
            "591/591 [==============================] - 23s 32ms/step - loss: 0.3500 - accuracy: 0.8899 - val_loss: 0.1420 - val_accuracy: 0.9569 - lr: 0.0010\n",
            "Epoch 2/50\n",
            "591/591 [==============================] - 16s 28ms/step - loss: 0.1125 - accuracy: 0.9657 - val_loss: 0.0567 - val_accuracy: 0.9800 - lr: 0.0010\n",
            "Epoch 3/50\n",
            "591/591 [==============================] - 17s 29ms/step - loss: 0.0809 - accuracy: 0.9747 - val_loss: 0.1049 - val_accuracy: 0.9669 - lr: 0.0010\n",
            "Epoch 4/50\n",
            "591/591 [==============================] - 16s 27ms/step - loss: 0.0742 - accuracy: 0.9767 - val_loss: 0.0341 - val_accuracy: 0.9888 - lr: 0.0010\n",
            "Epoch 5/50\n",
            "591/591 [==============================] - 17s 29ms/step - loss: 0.0613 - accuracy: 0.9817 - val_loss: 0.0249 - val_accuracy: 0.9926 - lr: 0.0010\n",
            "Epoch 6/50\n",
            "591/591 [==============================] - 16s 27ms/step - loss: 0.0571 - accuracy: 0.9821 - val_loss: 0.0257 - val_accuracy: 0.9926 - lr: 0.0010\n",
            "Epoch 7/50\n",
            "590/591 [============================>.] - ETA: 0s - loss: 0.0540 - accuracy: 0.9834\n",
            "Epoch 7: ReduceLROnPlateau reducing learning rate to 0.00020000000949949026.\n",
            "591/591 [==============================] - 17s 28ms/step - loss: 0.0540 - accuracy: 0.9834 - val_loss: 0.0281 - val_accuracy: 0.9919 - lr: 0.0010\n",
            "Epoch 8/50\n",
            "591/591 [==============================] - 16s 27ms/step - loss: 0.0401 - accuracy: 0.9876 - val_loss: 0.0191 - val_accuracy: 0.9938 - lr: 2.0000e-04\n",
            "Epoch 9/50\n",
            "591/591 [==============================] - 16s 28ms/step - loss: 0.0363 - accuracy: 0.9891 - val_loss: 0.0158 - val_accuracy: 0.9940 - lr: 2.0000e-04\n",
            "Epoch 10/50\n",
            "591/591 [==============================] - 17s 29ms/step - loss: 0.0328 - accuracy: 0.9901 - val_loss: 0.0155 - val_accuracy: 0.9948 - lr: 2.0000e-04\n",
            "Epoch 11/50\n",
            "591/591 [==============================] - 16s 27ms/step - loss: 0.0323 - accuracy: 0.9902 - val_loss: 0.0163 - val_accuracy: 0.9945 - lr: 2.0000e-04\n",
            "Epoch 12/50\n",
            "589/591 [============================>.] - ETA: 0s - loss: 0.0308 - accuracy: 0.9906\n",
            "Epoch 12: ReduceLROnPlateau reducing learning rate to 4.0000001899898055e-05.\n",
            "591/591 [==============================] - 17s 29ms/step - loss: 0.0307 - accuracy: 0.9906 - val_loss: 0.0169 - val_accuracy: 0.9948 - lr: 2.0000e-04\n",
            "Epoch 13/50\n",
            "591/591 [==============================] - 18s 30ms/step - loss: 0.0298 - accuracy: 0.9908 - val_loss: 0.0144 - val_accuracy: 0.9952 - lr: 4.0000e-05\n",
            "Epoch 14/50\n",
            "591/591 [==============================] - 16s 27ms/step - loss: 0.0276 - accuracy: 0.9916 - val_loss: 0.0148 - val_accuracy: 0.9952 - lr: 4.0000e-05\n",
            "Epoch 15/50\n",
            "591/591 [==============================] - 17s 29ms/step - loss: 0.0270 - accuracy: 0.9913 - val_loss: 0.0141 - val_accuracy: 0.9952 - lr: 4.0000e-05\n",
            "Epoch 16/50\n",
            "591/591 [==============================] - 16s 27ms/step - loss: 0.0262 - accuracy: 0.9922 - val_loss: 0.0141 - val_accuracy: 0.9955 - lr: 4.0000e-05\n",
            "Epoch 17/50\n",
            "591/591 [==============================] - 16s 27ms/step - loss: 0.0274 - accuracy: 0.9916 - val_loss: 0.0138 - val_accuracy: 0.9955 - lr: 4.0000e-05\n",
            "Epoch 18/50\n",
            "591/591 [==============================] - 17s 28ms/step - loss: 0.0258 - accuracy: 0.9917 - val_loss: 0.0137 - val_accuracy: 0.9952 - lr: 4.0000e-05\n",
            "Epoch 19/50\n",
            "591/591 [==============================] - 16s 27ms/step - loss: 0.0273 - accuracy: 0.9918 - val_loss: 0.0136 - val_accuracy: 0.9955 - lr: 4.0000e-05\n",
            "Epoch 20/50\n",
            "591/591 [==============================] - 16s 28ms/step - loss: 0.0267 - accuracy: 0.9917 - val_loss: 0.0133 - val_accuracy: 0.9957 - lr: 4.0000e-05\n",
            "Epoch 21/50\n",
            "591/591 [==============================] - 17s 29ms/step - loss: 0.0263 - accuracy: 0.9917 - val_loss: 0.0136 - val_accuracy: 0.9955 - lr: 4.0000e-05\n",
            "Epoch 22/50\n",
            "591/591 [==============================] - ETA: 0s - loss: 0.0257 - accuracy: 0.9918\n",
            "Epoch 22: ReduceLROnPlateau reducing learning rate to 8.000000525498762e-06.\n",
            "591/591 [==============================] - 16s 28ms/step - loss: 0.0257 - accuracy: 0.9918 - val_loss: 0.0140 - val_accuracy: 0.9952 - lr: 4.0000e-05\n",
            "Epoch 23/50\n",
            "591/591 [==============================] - 16s 27ms/step - loss: 0.0258 - accuracy: 0.9921 - val_loss: 0.0139 - val_accuracy: 0.9952 - lr: 8.0000e-06\n",
            "Epoch 24/50\n",
            "591/591 [==============================] - ETA: 0s - loss: 0.0258 - accuracy: 0.9923\n",
            "Epoch 24: ReduceLROnPlateau reducing learning rate to 1.6000001778593287e-06.\n",
            "591/591 [==============================] - 17s 28ms/step - loss: 0.0258 - accuracy: 0.9923 - val_loss: 0.0137 - val_accuracy: 0.9955 - lr: 8.0000e-06\n"
          ]
        }
      ]
    },
    {
      "cell_type": "markdown",
      "source": [
        "#### 5.4.3 Plot Loss Curves"
      ],
      "metadata": {
        "id": "eMJEPu5v8rY8"
      }
    },
    {
      "cell_type": "code",
      "source": [
        "plot_loss_curves(history_3)"
      ],
      "metadata": {
        "colab": {
          "base_uri": "https://localhost:8080/",
          "height": 927
        },
        "id": "aRKP0_aE8qrg",
        "outputId": "1197760a-f365-4c46-ee1e-ac178d8793b8"
      },
      "execution_count": null,
      "outputs": [
        {
          "output_type": "display_data",
          "data": {
            "text/plain": [
              "<Figure size 640x480 with 1 Axes>"
            ],
            "image/png": "[encoded data removed]"
          },
          "metadata": {}
        },
        {
          "output_type": "display_data",
          "data": {
            "text/plain": [
              "<Figure size 640x480 with 1 Axes>"
            ],
            "image/png": "[encoded data removed]"
          },
          "metadata": {}
        }
      ]
    },
    {
      "cell_type": "markdown",
      "source": [
        "## 6. Generate results"
      ],
      "metadata": {
        "id": "lSDzG7dx9-jY"
      }
    },
    {
      "cell_type": "code",
      "source": [
        "results = model_3.predict(X_res)\n",
        "results"
      ],
      "metadata": {
        "id": "yyRnIq4899wN",
        "colab": {
          "base_uri": "https://localhost:8080/"
        },
        "outputId": "2bbf5b86-769d-49d9-d070-da6c54a755aa"
      },
      "execution_count": null,
      "outputs": [
        {
          "output_type": "stream",
          "name": "stdout",
          "text": [
            "875/875 [==============================] - 3s 3ms/step\n"
          ]
        },
        {
          "output_type": "execute_result",
          "data": {
            "text/plain": [
              "array([[1.41917476e-11, 7.81538950e-13, 9.99998689e-01, ...,\n",
              "        1.34005256e-06, 1.45508550e-09, 7.51785856e-11],\n",
              "       [9.99986172e-01, 5.83976270e-11, 5.25395762e-06, ...,\n",
              "        1.54071760e-08, 1.26788152e-07, 7.60393459e-06],\n",
              "       [1.02624810e-11, 3.45335288e-11, 1.13728866e-07, ...,\n",
              "        2.04552055e-08, 2.12236355e-05, 9.99971390e-01],\n",
              "       ...,\n",
              "       [7.86100755e-18, 4.84702001e-10, 4.35821965e-14, ...,\n",
              "        1.27292179e-13, 1.63657532e-10, 1.00863602e-10],\n",
              "       [5.89702998e-09, 2.06895479e-09, 2.08607915e-07, ...,\n",
              "        1.18089236e-04, 1.42088425e-06, 9.99814332e-01],\n",
              "       [4.89765504e-15, 6.15781687e-15, 1.00000000e+00, ...,\n",
              "        7.55032303e-09, 6.07718320e-10, 1.55281915e-13]], dtype=float32)"
            ]
          },
          "metadata": {},
          "execution_count": 75
        }
      ]
    },
    {
      "cell_type": "code",
      "source": [
        "results = np.argmax(results, axis=1)\n",
        "results"
      ],
      "metadata": {
        "id": "TNnvTrz4-TAk",
        "colab": {
          "base_uri": "https://localhost:8080/"
        },
        "outputId": "6fb5ae36-091a-440f-c3ff-6a2e1b1f2b09"
      },
      "execution_count": null,
      "outputs": [
        {
          "output_type": "execute_result",
          "data": {
            "text/plain": [
              "array([2, 0, 9, ..., 3, 9, 2])"
            ]
          },
          "metadata": {},
          "execution_count": 76
        }
      ]
    },
    {
      "cell_type": "code",
      "source": [
        "submission = pd.DataFrame({\"ImageId\": range(1, 28001), \"Label\": results})\n",
        "submission.to_csv('digit_recognizer.csv', index=False)"
      ],
      "metadata": {
        "id": "9OYkLsmn-hZw"
      },
      "execution_count": null,
      "outputs": []
    },
    {
      "cell_type": "code",
      "source": [
        "results"
      ],
      "metadata": {
        "colab": {
          "base_uri": "https://localhost:8080/"
        },
        "id": "0eEcSGPUarJa",
        "outputId": "5e7d5bbd-5979-45b2-ac4b-8b6cf9bdfff5"
      },
      "execution_count": null,
      "outputs": [
        {
          "output_type": "execute_result",
          "data": {
            "text/plain": [
              "array([2, 0, 9, ..., 3, 9, 2])"
            ]
          },
          "metadata": {},
          "execution_count": 85
        }
      ]
    },
    {
      "cell_type": "code",
      "source": [
        "### Plot results\n",
        "import matplotlib.pyplot as plt\n",
        "import random\n",
        "import numpy as np\n",
        "\n",
        "def plot_n_random_images(m=1, n=5):\n",
        "\n",
        "  \"\"\"\n",
        "  Plots n random images with labels as titles\n",
        "  \"\"\"\n",
        "\n",
        "  fig = plt.figure(figsize=(10, 20))\n",
        "\n",
        "  for i in range(1,(n*m)+1):\n",
        "    rand_id = random.randint(0, 28000-1)\n",
        "\n",
        "    img = X_res[rand_id][:, :, 0]\n",
        "    label = results[rand_id]\n",
        "\n",
        "    fig.add_subplot(m,n,i)\n",
        "    plt.imshow(img)\n",
        "    plt.axis(False)\n",
        "    plt.title(f\"Answer: {label}\")\n",
        "\n",
        "  plt.show()"
      ],
      "metadata": {
        "id": "784-l_TNaVGZ"
      },
      "execution_count": null,
      "outputs": []
    },
    {
      "cell_type": "code",
      "source": [
        "plot_n_random_images(10,5)"
      ],
      "metadata": {
        "colab": {
          "base_uri": "https://localhost:8080/",
          "height": 1000
        },
        "id": "eWE7CTyMal8h",
        "outputId": "c6b11116-338d-4a19-abd7-ed15110234cf"
      },
      "execution_count": null,
      "outputs": [
        {
          "output_type": "display_data",
          "data": {
            "text/plain": [
              "<Figure size 1000x2000 with 50 Axes>"
            ],
            "image/png": "[encoded data removed]"
          },
          "metadata": {}
        }
      ]
    }
  ]
}